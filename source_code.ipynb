{
 "cells": [
  {
   "cell_type": "code",
   "execution_count": 1,
   "id": "4f3231e2-f6f6-4cd4-b5d5-b45db4cb4453",
   "metadata": {},
   "outputs": [],
   "source": [
    "import numpy as np\n",
    "import pandas as pd\n",
    "import matplotlib.pyplot as plt\n",
    "import seaborn as sns\n",
    "from datetime import datetime"
   ]
  },
  {
   "cell_type": "code",
   "execution_count": 2,
   "id": "164ebbed-84f6-4d0d-b453-f2a2f84b1d6d",
   "metadata": {},
   "outputs": [
    {
     "data": {
      "text/html": [
       "<div>\n",
       "<style scoped>\n",
       "    .dataframe tbody tr th:only-of-type {\n",
       "        vertical-align: middle;\n",
       "    }\n",
       "\n",
       "    .dataframe tbody tr th {\n",
       "        vertical-align: top;\n",
       "    }\n",
       "\n",
       "    .dataframe thead th {\n",
       "        text-align: right;\n",
       "    }\n",
       "</style>\n",
       "<table border=\"1\" class=\"dataframe\">\n",
       "  <thead>\n",
       "    <tr style=\"text-align: right;\">\n",
       "      <th></th>\n",
       "      <th>id</th>\n",
       "      <th>age</th>\n",
       "      <th>gender</th>\n",
       "      <th>country</th>\n",
       "      <th>diagnosis_date</th>\n",
       "      <th>cancer_stage</th>\n",
       "      <th>family_history</th>\n",
       "      <th>smoking_status</th>\n",
       "      <th>bmi</th>\n",
       "      <th>cholesterol_level</th>\n",
       "      <th>hypertension</th>\n",
       "      <th>asthma</th>\n",
       "      <th>cirrhosis</th>\n",
       "      <th>other_cancer</th>\n",
       "      <th>treatment_type</th>\n",
       "      <th>end_treatment_date</th>\n",
       "      <th>survived</th>\n",
       "    </tr>\n",
       "  </thead>\n",
       "  <tbody>\n",
       "    <tr>\n",
       "      <th>0</th>\n",
       "      <td>1</td>\n",
       "      <td>64</td>\n",
       "      <td>Male</td>\n",
       "      <td>Sweden</td>\n",
       "      <td>05-04-2016</td>\n",
       "      <td>Stage I</td>\n",
       "      <td>Yes</td>\n",
       "      <td>Passive Smoker</td>\n",
       "      <td>29.4</td>\n",
       "      <td>199</td>\n",
       "      <td>0</td>\n",
       "      <td>0</td>\n",
       "      <td>1</td>\n",
       "      <td>0</td>\n",
       "      <td>Chemotherapy</td>\n",
       "      <td>10-09-2017</td>\n",
       "      <td>0</td>\n",
       "    </tr>\n",
       "    <tr>\n",
       "      <th>1</th>\n",
       "      <td>2</td>\n",
       "      <td>50</td>\n",
       "      <td>Female</td>\n",
       "      <td>Netherlands</td>\n",
       "      <td>20-04-2023</td>\n",
       "      <td>Stage III</td>\n",
       "      <td>Yes</td>\n",
       "      <td>Passive Smoker</td>\n",
       "      <td>41.2</td>\n",
       "      <td>280</td>\n",
       "      <td>1</td>\n",
       "      <td>1</td>\n",
       "      <td>0</td>\n",
       "      <td>0</td>\n",
       "      <td>Surgery</td>\n",
       "      <td>17-06-2024</td>\n",
       "      <td>1</td>\n",
       "    </tr>\n",
       "    <tr>\n",
       "      <th>2</th>\n",
       "      <td>3</td>\n",
       "      <td>65</td>\n",
       "      <td>Female</td>\n",
       "      <td>Hungary</td>\n",
       "      <td>05-04-2023</td>\n",
       "      <td>Stage III</td>\n",
       "      <td>Yes</td>\n",
       "      <td>Former Smoker</td>\n",
       "      <td>44.0</td>\n",
       "      <td>268</td>\n",
       "      <td>1</td>\n",
       "      <td>1</td>\n",
       "      <td>0</td>\n",
       "      <td>0</td>\n",
       "      <td>Combined</td>\n",
       "      <td>09-04-2024</td>\n",
       "      <td>0</td>\n",
       "    </tr>\n",
       "    <tr>\n",
       "      <th>3</th>\n",
       "      <td>4</td>\n",
       "      <td>51</td>\n",
       "      <td>Female</td>\n",
       "      <td>Belgium</td>\n",
       "      <td>05-02-2016</td>\n",
       "      <td>Stage I</td>\n",
       "      <td>No</td>\n",
       "      <td>Passive Smoker</td>\n",
       "      <td>43.0</td>\n",
       "      <td>241</td>\n",
       "      <td>1</td>\n",
       "      <td>1</td>\n",
       "      <td>0</td>\n",
       "      <td>0</td>\n",
       "      <td>Chemotherapy</td>\n",
       "      <td>23-04-2017</td>\n",
       "      <td>0</td>\n",
       "    </tr>\n",
       "    <tr>\n",
       "      <th>4</th>\n",
       "      <td>5</td>\n",
       "      <td>37</td>\n",
       "      <td>Male</td>\n",
       "      <td>Luxembourg</td>\n",
       "      <td>29-11-2023</td>\n",
       "      <td>Stage I</td>\n",
       "      <td>No</td>\n",
       "      <td>Passive Smoker</td>\n",
       "      <td>19.7</td>\n",
       "      <td>178</td>\n",
       "      <td>0</td>\n",
       "      <td>0</td>\n",
       "      <td>0</td>\n",
       "      <td>0</td>\n",
       "      <td>Combined</td>\n",
       "      <td>08-01-2025</td>\n",
       "      <td>0</td>\n",
       "    </tr>\n",
       "    <tr>\n",
       "      <th>...</th>\n",
       "      <td>...</td>\n",
       "      <td>...</td>\n",
       "      <td>...</td>\n",
       "      <td>...</td>\n",
       "      <td>...</td>\n",
       "      <td>...</td>\n",
       "      <td>...</td>\n",
       "      <td>...</td>\n",
       "      <td>...</td>\n",
       "      <td>...</td>\n",
       "      <td>...</td>\n",
       "      <td>...</td>\n",
       "      <td>...</td>\n",
       "      <td>...</td>\n",
       "      <td>...</td>\n",
       "      <td>...</td>\n",
       "      <td>...</td>\n",
       "    </tr>\n",
       "    <tr>\n",
       "      <th>889995</th>\n",
       "      <td>889996</td>\n",
       "      <td>40</td>\n",
       "      <td>Male</td>\n",
       "      <td>Malta</td>\n",
       "      <td>01-07-2022</td>\n",
       "      <td>Stage IV</td>\n",
       "      <td>No</td>\n",
       "      <td>Passive Smoker</td>\n",
       "      <td>44.8</td>\n",
       "      <td>243</td>\n",
       "      <td>1</td>\n",
       "      <td>1</td>\n",
       "      <td>1</td>\n",
       "      <td>0</td>\n",
       "      <td>Radiation</td>\n",
       "      <td>23-02-2023</td>\n",
       "      <td>0</td>\n",
       "    </tr>\n",
       "    <tr>\n",
       "      <th>889996</th>\n",
       "      <td>889997</td>\n",
       "      <td>62</td>\n",
       "      <td>Female</td>\n",
       "      <td>Cyprus</td>\n",
       "      <td>27-09-2015</td>\n",
       "      <td>Stage II</td>\n",
       "      <td>Yes</td>\n",
       "      <td>Former Smoker</td>\n",
       "      <td>21.6</td>\n",
       "      <td>240</td>\n",
       "      <td>0</td>\n",
       "      <td>0</td>\n",
       "      <td>0</td>\n",
       "      <td>0</td>\n",
       "      <td>Surgery</td>\n",
       "      <td>19-06-2017</td>\n",
       "      <td>0</td>\n",
       "    </tr>\n",
       "    <tr>\n",
       "      <th>889997</th>\n",
       "      <td>889998</td>\n",
       "      <td>48</td>\n",
       "      <td>Female</td>\n",
       "      <td>Estonia</td>\n",
       "      <td>27-03-2016</td>\n",
       "      <td>Stage III</td>\n",
       "      <td>Yes</td>\n",
       "      <td>Never Smoked</td>\n",
       "      <td>38.6</td>\n",
       "      <td>242</td>\n",
       "      <td>1</td>\n",
       "      <td>0</td>\n",
       "      <td>0</td>\n",
       "      <td>0</td>\n",
       "      <td>Combined</td>\n",
       "      <td>23-01-2017</td>\n",
       "      <td>1</td>\n",
       "    </tr>\n",
       "    <tr>\n",
       "      <th>889998</th>\n",
       "      <td>889999</td>\n",
       "      <td>67</td>\n",
       "      <td>Female</td>\n",
       "      <td>Slovakia</td>\n",
       "      <td>22-12-2015</td>\n",
       "      <td>Stage IV</td>\n",
       "      <td>Yes</td>\n",
       "      <td>Former Smoker</td>\n",
       "      <td>18.6</td>\n",
       "      <td>194</td>\n",
       "      <td>1</td>\n",
       "      <td>1</td>\n",
       "      <td>0</td>\n",
       "      <td>0</td>\n",
       "      <td>Chemotherapy</td>\n",
       "      <td>12-12-2017</td>\n",
       "      <td>0</td>\n",
       "    </tr>\n",
       "    <tr>\n",
       "      <th>889999</th>\n",
       "      <td>890000</td>\n",
       "      <td>55</td>\n",
       "      <td>Female</td>\n",
       "      <td>Malta</td>\n",
       "      <td>26-07-2021</td>\n",
       "      <td>Stage II</td>\n",
       "      <td>Yes</td>\n",
       "      <td>Current Smoker</td>\n",
       "      <td>42.8</td>\n",
       "      <td>250</td>\n",
       "      <td>0</td>\n",
       "      <td>0</td>\n",
       "      <td>0</td>\n",
       "      <td>0</td>\n",
       "      <td>Combined</td>\n",
       "      <td>19-10-2022</td>\n",
       "      <td>0</td>\n",
       "    </tr>\n",
       "  </tbody>\n",
       "</table>\n",
       "<p>890000 rows × 17 columns</p>\n",
       "</div>"
      ],
      "text/plain": [
       "            id  age  gender      country diagnosis_date cancer_stage  \\\n",
       "0            1   64    Male       Sweden     05-04-2016      Stage I   \n",
       "1            2   50  Female  Netherlands     20-04-2023    Stage III   \n",
       "2            3   65  Female      Hungary     05-04-2023    Stage III   \n",
       "3            4   51  Female      Belgium     05-02-2016      Stage I   \n",
       "4            5   37    Male   Luxembourg     29-11-2023      Stage I   \n",
       "...        ...  ...     ...          ...            ...          ...   \n",
       "889995  889996   40    Male        Malta     01-07-2022     Stage IV   \n",
       "889996  889997   62  Female       Cyprus     27-09-2015     Stage II   \n",
       "889997  889998   48  Female      Estonia     27-03-2016    Stage III   \n",
       "889998  889999   67  Female     Slovakia     22-12-2015     Stage IV   \n",
       "889999  890000   55  Female        Malta     26-07-2021     Stage II   \n",
       "\n",
       "       family_history  smoking_status   bmi  cholesterol_level  hypertension  \\\n",
       "0                 Yes  Passive Smoker  29.4                199             0   \n",
       "1                 Yes  Passive Smoker  41.2                280             1   \n",
       "2                 Yes   Former Smoker  44.0                268             1   \n",
       "3                  No  Passive Smoker  43.0                241             1   \n",
       "4                  No  Passive Smoker  19.7                178             0   \n",
       "...               ...             ...   ...                ...           ...   \n",
       "889995             No  Passive Smoker  44.8                243             1   \n",
       "889996            Yes   Former Smoker  21.6                240             0   \n",
       "889997            Yes    Never Smoked  38.6                242             1   \n",
       "889998            Yes   Former Smoker  18.6                194             1   \n",
       "889999            Yes  Current Smoker  42.8                250             0   \n",
       "\n",
       "        asthma  cirrhosis  other_cancer treatment_type end_treatment_date  \\\n",
       "0            0          1             0   Chemotherapy         10-09-2017   \n",
       "1            1          0             0        Surgery         17-06-2024   \n",
       "2            1          0             0       Combined         09-04-2024   \n",
       "3            1          0             0   Chemotherapy         23-04-2017   \n",
       "4            0          0             0       Combined         08-01-2025   \n",
       "...        ...        ...           ...            ...                ...   \n",
       "889995       1          1             0      Radiation         23-02-2023   \n",
       "889996       0          0             0        Surgery         19-06-2017   \n",
       "889997       0          0             0       Combined         23-01-2017   \n",
       "889998       1          0             0   Chemotherapy         12-12-2017   \n",
       "889999       0          0             0       Combined         19-10-2022   \n",
       "\n",
       "        survived  \n",
       "0              0  \n",
       "1              1  \n",
       "2              0  \n",
       "3              0  \n",
       "4              0  \n",
       "...          ...  \n",
       "889995         0  \n",
       "889996         0  \n",
       "889997         1  \n",
       "889998         0  \n",
       "889999         0  \n",
       "\n",
       "[890000 rows x 17 columns]"
      ]
     },
     "execution_count": 2,
     "metadata": {},
     "output_type": "execute_result"
    }
   ],
   "source": [
    "data=pd.read_csv(\"dataset_med.csv\")\n",
    "data"
   ]
  },
  {
   "cell_type": "code",
   "execution_count": 3,
   "id": "2830a9e4-89a6-4022-9e01-28bc9baf0ae1",
   "metadata": {},
   "outputs": [
    {
     "data": {
      "text/plain": [
       "id                      int64\n",
       "age                     int64\n",
       "gender                 object\n",
       "country                object\n",
       "diagnosis_date         object\n",
       "cancer_stage           object\n",
       "family_history         object\n",
       "smoking_status         object\n",
       "bmi                   float64\n",
       "cholesterol_level       int64\n",
       "hypertension            int64\n",
       "asthma                  int64\n",
       "cirrhosis               int64\n",
       "other_cancer            int64\n",
       "treatment_type         object\n",
       "end_treatment_date     object\n",
       "survived                int64\n",
       "dtype: object"
      ]
     },
     "execution_count": 3,
     "metadata": {},
     "output_type": "execute_result"
    }
   ],
   "source": [
    "data.dtypes"
   ]
  },
  {
   "cell_type": "code",
   "execution_count": 4,
   "id": "2d0e74bb-00fe-4a5b-a8db-12b23084706d",
   "metadata": {},
   "outputs": [],
   "source": [
    "data['diagnosis_date'] = pd.to_datetime(data['diagnosis_date'], format='%d-%m-%Y')\n",
    "data['end_treatment_date'] = pd.to_datetime(data['end_treatment_date'], format='%d-%m-%Y')\n"
   ]
  },
  {
   "cell_type": "code",
   "execution_count": 5,
   "id": "a2fca1c6-2db9-4163-b9dd-76ca5c42a092",
   "metadata": {},
   "outputs": [
    {
     "data": {
      "text/html": [
       "<div>\n",
       "<style scoped>\n",
       "    .dataframe tbody tr th:only-of-type {\n",
       "        vertical-align: middle;\n",
       "    }\n",
       "\n",
       "    .dataframe tbody tr th {\n",
       "        vertical-align: top;\n",
       "    }\n",
       "\n",
       "    .dataframe thead th {\n",
       "        text-align: right;\n",
       "    }\n",
       "</style>\n",
       "<table border=\"1\" class=\"dataframe\">\n",
       "  <thead>\n",
       "    <tr style=\"text-align: right;\">\n",
       "      <th></th>\n",
       "      <th>id</th>\n",
       "      <th>age</th>\n",
       "      <th>gender</th>\n",
       "      <th>country</th>\n",
       "      <th>diagnosis_date</th>\n",
       "      <th>cancer_stage</th>\n",
       "      <th>family_history</th>\n",
       "      <th>smoking_status</th>\n",
       "      <th>bmi</th>\n",
       "      <th>cholesterol_level</th>\n",
       "      <th>hypertension</th>\n",
       "      <th>asthma</th>\n",
       "      <th>cirrhosis</th>\n",
       "      <th>other_cancer</th>\n",
       "      <th>treatment_type</th>\n",
       "      <th>end_treatment_date</th>\n",
       "      <th>survived</th>\n",
       "      <th>treatment_duration</th>\n",
       "    </tr>\n",
       "  </thead>\n",
       "  <tbody>\n",
       "    <tr>\n",
       "      <th>0</th>\n",
       "      <td>1</td>\n",
       "      <td>64</td>\n",
       "      <td>Male</td>\n",
       "      <td>Sweden</td>\n",
       "      <td>2016-04-05</td>\n",
       "      <td>Stage I</td>\n",
       "      <td>Yes</td>\n",
       "      <td>Passive Smoker</td>\n",
       "      <td>29.4</td>\n",
       "      <td>199</td>\n",
       "      <td>0</td>\n",
       "      <td>0</td>\n",
       "      <td>1</td>\n",
       "      <td>0</td>\n",
       "      <td>Chemotherapy</td>\n",
       "      <td>2017-09-10</td>\n",
       "      <td>0</td>\n",
       "      <td>523</td>\n",
       "    </tr>\n",
       "    <tr>\n",
       "      <th>1</th>\n",
       "      <td>2</td>\n",
       "      <td>50</td>\n",
       "      <td>Female</td>\n",
       "      <td>Netherlands</td>\n",
       "      <td>2023-04-20</td>\n",
       "      <td>Stage III</td>\n",
       "      <td>Yes</td>\n",
       "      <td>Passive Smoker</td>\n",
       "      <td>41.2</td>\n",
       "      <td>280</td>\n",
       "      <td>1</td>\n",
       "      <td>1</td>\n",
       "      <td>0</td>\n",
       "      <td>0</td>\n",
       "      <td>Surgery</td>\n",
       "      <td>2024-06-17</td>\n",
       "      <td>1</td>\n",
       "      <td>424</td>\n",
       "    </tr>\n",
       "    <tr>\n",
       "      <th>2</th>\n",
       "      <td>3</td>\n",
       "      <td>65</td>\n",
       "      <td>Female</td>\n",
       "      <td>Hungary</td>\n",
       "      <td>2023-04-05</td>\n",
       "      <td>Stage III</td>\n",
       "      <td>Yes</td>\n",
       "      <td>Former Smoker</td>\n",
       "      <td>44.0</td>\n",
       "      <td>268</td>\n",
       "      <td>1</td>\n",
       "      <td>1</td>\n",
       "      <td>0</td>\n",
       "      <td>0</td>\n",
       "      <td>Combined</td>\n",
       "      <td>2024-04-09</td>\n",
       "      <td>0</td>\n",
       "      <td>370</td>\n",
       "    </tr>\n",
       "    <tr>\n",
       "      <th>3</th>\n",
       "      <td>4</td>\n",
       "      <td>51</td>\n",
       "      <td>Female</td>\n",
       "      <td>Belgium</td>\n",
       "      <td>2016-02-05</td>\n",
       "      <td>Stage I</td>\n",
       "      <td>No</td>\n",
       "      <td>Passive Smoker</td>\n",
       "      <td>43.0</td>\n",
       "      <td>241</td>\n",
       "      <td>1</td>\n",
       "      <td>1</td>\n",
       "      <td>0</td>\n",
       "      <td>0</td>\n",
       "      <td>Chemotherapy</td>\n",
       "      <td>2017-04-23</td>\n",
       "      <td>0</td>\n",
       "      <td>443</td>\n",
       "    </tr>\n",
       "    <tr>\n",
       "      <th>4</th>\n",
       "      <td>5</td>\n",
       "      <td>37</td>\n",
       "      <td>Male</td>\n",
       "      <td>Luxembourg</td>\n",
       "      <td>2023-11-29</td>\n",
       "      <td>Stage I</td>\n",
       "      <td>No</td>\n",
       "      <td>Passive Smoker</td>\n",
       "      <td>19.7</td>\n",
       "      <td>178</td>\n",
       "      <td>0</td>\n",
       "      <td>0</td>\n",
       "      <td>0</td>\n",
       "      <td>0</td>\n",
       "      <td>Combined</td>\n",
       "      <td>2025-01-08</td>\n",
       "      <td>0</td>\n",
       "      <td>406</td>\n",
       "    </tr>\n",
       "    <tr>\n",
       "      <th>...</th>\n",
       "      <td>...</td>\n",
       "      <td>...</td>\n",
       "      <td>...</td>\n",
       "      <td>...</td>\n",
       "      <td>...</td>\n",
       "      <td>...</td>\n",
       "      <td>...</td>\n",
       "      <td>...</td>\n",
       "      <td>...</td>\n",
       "      <td>...</td>\n",
       "      <td>...</td>\n",
       "      <td>...</td>\n",
       "      <td>...</td>\n",
       "      <td>...</td>\n",
       "      <td>...</td>\n",
       "      <td>...</td>\n",
       "      <td>...</td>\n",
       "      <td>...</td>\n",
       "    </tr>\n",
       "    <tr>\n",
       "      <th>889995</th>\n",
       "      <td>889996</td>\n",
       "      <td>40</td>\n",
       "      <td>Male</td>\n",
       "      <td>Malta</td>\n",
       "      <td>2022-07-01</td>\n",
       "      <td>Stage IV</td>\n",
       "      <td>No</td>\n",
       "      <td>Passive Smoker</td>\n",
       "      <td>44.8</td>\n",
       "      <td>243</td>\n",
       "      <td>1</td>\n",
       "      <td>1</td>\n",
       "      <td>1</td>\n",
       "      <td>0</td>\n",
       "      <td>Radiation</td>\n",
       "      <td>2023-02-23</td>\n",
       "      <td>0</td>\n",
       "      <td>237</td>\n",
       "    </tr>\n",
       "    <tr>\n",
       "      <th>889996</th>\n",
       "      <td>889997</td>\n",
       "      <td>62</td>\n",
       "      <td>Female</td>\n",
       "      <td>Cyprus</td>\n",
       "      <td>2015-09-27</td>\n",
       "      <td>Stage II</td>\n",
       "      <td>Yes</td>\n",
       "      <td>Former Smoker</td>\n",
       "      <td>21.6</td>\n",
       "      <td>240</td>\n",
       "      <td>0</td>\n",
       "      <td>0</td>\n",
       "      <td>0</td>\n",
       "      <td>0</td>\n",
       "      <td>Surgery</td>\n",
       "      <td>2017-06-19</td>\n",
       "      <td>0</td>\n",
       "      <td>631</td>\n",
       "    </tr>\n",
       "    <tr>\n",
       "      <th>889997</th>\n",
       "      <td>889998</td>\n",
       "      <td>48</td>\n",
       "      <td>Female</td>\n",
       "      <td>Estonia</td>\n",
       "      <td>2016-03-27</td>\n",
       "      <td>Stage III</td>\n",
       "      <td>Yes</td>\n",
       "      <td>Never Smoked</td>\n",
       "      <td>38.6</td>\n",
       "      <td>242</td>\n",
       "      <td>1</td>\n",
       "      <td>0</td>\n",
       "      <td>0</td>\n",
       "      <td>0</td>\n",
       "      <td>Combined</td>\n",
       "      <td>2017-01-23</td>\n",
       "      <td>1</td>\n",
       "      <td>302</td>\n",
       "    </tr>\n",
       "    <tr>\n",
       "      <th>889998</th>\n",
       "      <td>889999</td>\n",
       "      <td>67</td>\n",
       "      <td>Female</td>\n",
       "      <td>Slovakia</td>\n",
       "      <td>2015-12-22</td>\n",
       "      <td>Stage IV</td>\n",
       "      <td>Yes</td>\n",
       "      <td>Former Smoker</td>\n",
       "      <td>18.6</td>\n",
       "      <td>194</td>\n",
       "      <td>1</td>\n",
       "      <td>1</td>\n",
       "      <td>0</td>\n",
       "      <td>0</td>\n",
       "      <td>Chemotherapy</td>\n",
       "      <td>2017-12-12</td>\n",
       "      <td>0</td>\n",
       "      <td>721</td>\n",
       "    </tr>\n",
       "    <tr>\n",
       "      <th>889999</th>\n",
       "      <td>890000</td>\n",
       "      <td>55</td>\n",
       "      <td>Female</td>\n",
       "      <td>Malta</td>\n",
       "      <td>2021-07-26</td>\n",
       "      <td>Stage II</td>\n",
       "      <td>Yes</td>\n",
       "      <td>Current Smoker</td>\n",
       "      <td>42.8</td>\n",
       "      <td>250</td>\n",
       "      <td>0</td>\n",
       "      <td>0</td>\n",
       "      <td>0</td>\n",
       "      <td>0</td>\n",
       "      <td>Combined</td>\n",
       "      <td>2022-10-19</td>\n",
       "      <td>0</td>\n",
       "      <td>450</td>\n",
       "    </tr>\n",
       "  </tbody>\n",
       "</table>\n",
       "<p>890000 rows × 18 columns</p>\n",
       "</div>"
      ],
      "text/plain": [
       "            id  age  gender      country diagnosis_date cancer_stage  \\\n",
       "0            1   64    Male       Sweden     2016-04-05      Stage I   \n",
       "1            2   50  Female  Netherlands     2023-04-20    Stage III   \n",
       "2            3   65  Female      Hungary     2023-04-05    Stage III   \n",
       "3            4   51  Female      Belgium     2016-02-05      Stage I   \n",
       "4            5   37    Male   Luxembourg     2023-11-29      Stage I   \n",
       "...        ...  ...     ...          ...            ...          ...   \n",
       "889995  889996   40    Male        Malta     2022-07-01     Stage IV   \n",
       "889996  889997   62  Female       Cyprus     2015-09-27     Stage II   \n",
       "889997  889998   48  Female      Estonia     2016-03-27    Stage III   \n",
       "889998  889999   67  Female     Slovakia     2015-12-22     Stage IV   \n",
       "889999  890000   55  Female        Malta     2021-07-26     Stage II   \n",
       "\n",
       "       family_history  smoking_status   bmi  cholesterol_level  hypertension  \\\n",
       "0                 Yes  Passive Smoker  29.4                199             0   \n",
       "1                 Yes  Passive Smoker  41.2                280             1   \n",
       "2                 Yes   Former Smoker  44.0                268             1   \n",
       "3                  No  Passive Smoker  43.0                241             1   \n",
       "4                  No  Passive Smoker  19.7                178             0   \n",
       "...               ...             ...   ...                ...           ...   \n",
       "889995             No  Passive Smoker  44.8                243             1   \n",
       "889996            Yes   Former Smoker  21.6                240             0   \n",
       "889997            Yes    Never Smoked  38.6                242             1   \n",
       "889998            Yes   Former Smoker  18.6                194             1   \n",
       "889999            Yes  Current Smoker  42.8                250             0   \n",
       "\n",
       "        asthma  cirrhosis  other_cancer treatment_type end_treatment_date  \\\n",
       "0            0          1             0   Chemotherapy         2017-09-10   \n",
       "1            1          0             0        Surgery         2024-06-17   \n",
       "2            1          0             0       Combined         2024-04-09   \n",
       "3            1          0             0   Chemotherapy         2017-04-23   \n",
       "4            0          0             0       Combined         2025-01-08   \n",
       "...        ...        ...           ...            ...                ...   \n",
       "889995       1          1             0      Radiation         2023-02-23   \n",
       "889996       0          0             0        Surgery         2017-06-19   \n",
       "889997       0          0             0       Combined         2017-01-23   \n",
       "889998       1          0             0   Chemotherapy         2017-12-12   \n",
       "889999       0          0             0       Combined         2022-10-19   \n",
       "\n",
       "        survived  treatment_duration  \n",
       "0              0                 523  \n",
       "1              1                 424  \n",
       "2              0                 370  \n",
       "3              0                 443  \n",
       "4              0                 406  \n",
       "...          ...                 ...  \n",
       "889995         0                 237  \n",
       "889996         0                 631  \n",
       "889997         1                 302  \n",
       "889998         0                 721  \n",
       "889999         0                 450  \n",
       "\n",
       "[890000 rows x 18 columns]"
      ]
     },
     "execution_count": 5,
     "metadata": {},
     "output_type": "execute_result"
    }
   ],
   "source": [
    "#creats the new column by performing the arithmetic operation\n",
    "data['treatment_duration'] = (data['end_treatment_date'] - data['diagnosis_date']).dt.days\n",
    "data"
   ]
  },
  {
   "cell_type": "code",
   "execution_count": 6,
   "id": "b1761d5a-c619-4a21-a974-7323fa9819cc",
   "metadata": {
    "scrolled": true
   },
   "outputs": [],
   "source": [
    "data[\"age\"]=data[\"age\"].astype(int)"
   ]
  },
  {
   "cell_type": "code",
   "execution_count": 7,
   "id": "cdeb550d-a1ca-4ab7-a794-30a2996c5c5d",
   "metadata": {},
   "outputs": [
    {
     "data": {
      "text/plain": [
       "dtype('int32')"
      ]
     },
     "execution_count": 7,
     "metadata": {},
     "output_type": "execute_result"
    }
   ],
   "source": [
    "data['age'].dtypes"
   ]
  },
  {
   "cell_type": "markdown",
   "id": "c61ed559-b483-4bb2-8291-c4f86f2604ee",
   "metadata": {},
   "source": [
    "## 1. Patient Demographics & Geographic Analysis"
   ]
  },
  {
   "cell_type": "markdown",
   "id": "01bd702f-19bf-477f-b120-0bfbb9f8baed",
   "metadata": {},
   "source": [
    "(i) What is the age distribution of patients across different cancer stages?"
   ]
  },
  {
   "cell_type": "code",
   "execution_count": 8,
   "id": "04bfa0e3-fc15-49ed-88c0-e14ed99c9007",
   "metadata": {},
   "outputs": [
    {
     "name": "stdout",
     "output_type": "stream",
     "text": [
      "The age distribution of patients across different cancer stages:\n",
      "\n"
     ]
    },
    {
     "data": {
      "text/html": [
       "<div>\n",
       "<style scoped>\n",
       "    .dataframe tbody tr th:only-of-type {\n",
       "        vertical-align: middle;\n",
       "    }\n",
       "\n",
       "    .dataframe tbody tr th {\n",
       "        vertical-align: top;\n",
       "    }\n",
       "\n",
       "    .dataframe thead th {\n",
       "        text-align: right;\n",
       "    }\n",
       "</style>\n",
       "<table border=\"1\" class=\"dataframe\">\n",
       "  <thead>\n",
       "    <tr style=\"text-align: right;\">\n",
       "      <th>cancer_stage</th>\n",
       "      <th>Stage I</th>\n",
       "      <th>Stage II</th>\n",
       "      <th>Stage III</th>\n",
       "      <th>Stage IV</th>\n",
       "    </tr>\n",
       "    <tr>\n",
       "      <th>age_group</th>\n",
       "      <th></th>\n",
       "      <th></th>\n",
       "      <th></th>\n",
       "      <th></th>\n",
       "    </tr>\n",
       "  </thead>\n",
       "  <tbody>\n",
       "    <tr>\n",
       "      <th>0-20</th>\n",
       "      <td>65</td>\n",
       "      <td>59</td>\n",
       "      <td>68</td>\n",
       "      <td>68</td>\n",
       "    </tr>\n",
       "    <tr>\n",
       "      <th>20-40</th>\n",
       "      <td>16329</td>\n",
       "      <td>16170</td>\n",
       "      <td>16316</td>\n",
       "      <td>16192</td>\n",
       "    </tr>\n",
       "    <tr>\n",
       "      <th>40-60</th>\n",
       "      <td>141510</td>\n",
       "      <td>141123</td>\n",
       "      <td>140958</td>\n",
       "      <td>141610</td>\n",
       "    </tr>\n",
       "    <tr>\n",
       "      <th>60-80</th>\n",
       "      <td>63401</td>\n",
       "      <td>63835</td>\n",
       "      <td>64054</td>\n",
       "      <td>63449</td>\n",
       "    </tr>\n",
       "    <tr>\n",
       "      <th>80-110</th>\n",
       "      <td>1211</td>\n",
       "      <td>1176</td>\n",
       "      <td>1198</td>\n",
       "      <td>1208</td>\n",
       "    </tr>\n",
       "  </tbody>\n",
       "</table>\n",
       "</div>"
      ],
      "text/plain": [
       "cancer_stage  Stage I  Stage II  Stage III  Stage IV\n",
       "age_group                                           \n",
       "0-20               65        59         68        68\n",
       "20-40           16329     16170      16316     16192\n",
       "40-60          141510    141123     140958    141610\n",
       "60-80           63401     63835      64054     63449\n",
       "80-110           1211      1176       1198      1208"
      ]
     },
     "execution_count": 8,
     "metadata": {},
     "output_type": "execute_result"
    }
   ],
   "source": [
    "#1.1code\n",
    "data[\"age_group\"]=pd.cut(data[\"age\"], bins=[0,20,40,60,80,110],labels=[\"0-20\",\"20-40\",\"40-60\",\n",
    "                                                                       \"60-80\",\"80-110\"])\n",
    "age_distribution = pd.crosstab(data[\"age_group\"],data[\"cancer_stage\"])\n",
    "print(\"The age distribution of patients across different cancer stages:\\n\")\n",
    "age_distribution "
   ]
  },
  {
   "cell_type": "code",
   "execution_count": 9,
   "id": "0ece22eb-5553-4d7c-95fe-0e7b6941ddac",
   "metadata": {},
   "outputs": [
    {
     "data": {
      "image/png": "[encoded data removed]",
      "text/plain": [
       "<Figure size 640x480 with 1 Axes>"
      ]
     },
     "metadata": {},
     "output_type": "display_data"
    }
   ],
   "source": [
    "sns.countplot(data=data, x='age_group', hue='cancer_stage')\n",
    "plt.show()"
   ]
  },
  {
   "cell_type": "markdown",
   "id": "29c3871f-03fd-4c03-a194-8ecdb197b4d3",
   "metadata": {},
   "source": [
    "(ii) How many male and female patients are there, and what is the average age for each gender?"
   ]
  },
  {
   "cell_type": "code",
   "execution_count": 10,
   "id": "ae4bf0f6-3633-4503-b41d-3aa56c36d773",
   "metadata": {
    "scrolled": true
   },
   "outputs": [
    {
     "name": "stdout",
     "output_type": "stream",
     "text": [
      "No of male and female patients present are:\n",
      " gender\n",
      "Male      445134\n",
      "Female    444866\n",
      "Name: count, dtype: int64 \n",
      "\n",
      "The average age for each gender is:\n",
      " gender\n",
      "Female    55.016457\n",
      "Male      54.997565\n",
      "Name: age, dtype: float64 \n",
      "\n"
     ]
    }
   ],
   "source": [
    "#1.2code\n",
    "gender_count=data[\"gender\"].value_counts()\n",
    "print(\"No of male and female patients present are:\\n\",gender_count,\"\\n\")\n",
    "avg_age=data.groupby('gender')['age'].mean()\n",
    "print(\"The average age for each gender is:\\n\",avg_age,\"\\n\")"
   ]
  },
  {
   "cell_type": "code",
   "execution_count": 11,
   "id": "f91c88b0-b5f2-4e44-8b7a-96fbf97935a6",
   "metadata": {},
   "outputs": [
    {
     "data": {
      "text/plain": [
       "<Axes: xlabel='age_group', ylabel='count'>"
      ]
     },
     "execution_count": 11,
     "metadata": {},
     "output_type": "execute_result"
    },
    {
     "data": {
      "image/png": "[encoded data removed]",
      "text/plain": [
       "<Figure size 640x480 with 1 Axes>"
      ]
     },
     "metadata": {},
     "output_type": "display_data"
    }
   ],
   "source": [
    "sns.countplot(hue='gender', x='age_group', data=data)"
   ]
  },
  {
   "cell_type": "markdown",
   "id": "9fa51a23-9ff3-4ffe-840c-e37ba97d04d1",
   "metadata": {},
   "source": [
    "(iii) Are there significant gender-based differences in survival rates, treatment types, or cancer stage at diagnosis?"
   ]
  },
  {
   "cell_type": "code",
   "execution_count": 12,
   "id": "c31a3044-dcc2-48b3-bfab-6b1a8fd60124",
   "metadata": {
    "scrolled": true
   },
   "outputs": [
    {
     "name": "stdout",
     "output_type": "stream",
     "text": [
      "The significant gender-based differences in survival rates, treatment types, or cancer stage at diagnosis:\n",
      "         survived  treatment_type  cancer_stage\n",
      "gender                                        \n",
      "Female    444866          444866        444866\n",
      "Male      445134          445134        445134 \n",
      "\n"
     ]
    }
   ],
   "source": [
    "#1.3 code\n",
    "combination=[\"survived\",\"treatment_type\",\"cancer_stage\"]\n",
    "gender_based_diff=data.groupby(\"gender\")[combination].count()\n",
    "print(\"The significant gender-based differences in survival rates, treatment types, or cancer stage at diagnosis:\\n\",gender_based_diff,\"\\n\")"
   ]
  },
  {
   "cell_type": "markdown",
   "id": "0c4f2924-40f2-4472-8a19-f15fb20fe5a6",
   "metadata": {},
   "source": [
    "(iv) Which countries have the most patients and show the best survival rates?"
   ]
  },
  {
   "cell_type": "code",
   "execution_count": 13,
   "id": "b495a989-a422-405e-a934-62928a2d9cb2",
   "metadata": {},
   "outputs": [
    {
     "name": "stdout",
     "output_type": "stream",
     "text": [
      "\n",
      "TOP 7 COUNTRIES BY PATIENT COUNT AND THEIR SURVIVAL RATES:\n",
      "\n",
      "    country  patient_count  survival_rate\n",
      "0     Malta          33367      22.255522\n",
      "1   Ireland          33243      21.902355\n",
      "2  Portugal          33208      22.199470\n",
      "3    France          33199      21.575951\n",
      "4    Sweden          33161      21.606707\n",
      "5   Croatia          33138      21.989861\n",
      "6    Greece          33052      21.950260\n"
     ]
    }
   ],
   "source": [
    "#1.4 code\n",
    "count = data.groupby('country')['id'].count().reset_index(name='patient_count')\n",
    "count = count.sort_values(by='patient_count', ascending=False)\n",
    "count\n",
    "survival = data.groupby('country')['survived'].mean().reset_index(name='survival_rate')\n",
    "survival['survival_rate'] = survival['survival_rate'] * 100  \n",
    "survival = survival.sort_values(by='survival_rate', ascending=False)\n",
    "survival\n",
    "country_stats = pd.merge(count, survival, on='country')\n",
    "country_stats\n",
    "top_countries = country_stats.sort_values(by=['patient_count', 'survival_rate'], ascending=False)\n",
    "print(\"\\nTOP 7 COUNTRIES BY PATIENT COUNT AND THEIR SURVIVAL RATES:\\n\")\n",
    "print(top_countries.head(7))"
   ]
  },
  {
   "cell_type": "markdown",
   "id": "a20f269c-0d02-4d58-b6d7-908cdbb1cf75",
   "metadata": {},
   "source": [
    "(v)\tDoes age at diagnosis vary across different countries or stages, and how does this affect treatment decisions?"
   ]
  },
  {
   "cell_type": "code",
   "execution_count": 14,
   "id": "c465ce65-6865-48ef-9d28-5cd7548daae3",
   "metadata": {
    "scrolled": true
   },
   "outputs": [
    {
     "name": "stdout",
     "output_type": "stream",
     "text": [
      "Age at diagnosis across countries:\n",
      " country\n",
      "Estonia           55.144468\n",
      "Bulgaria          55.114623\n",
      "Italy             55.100704\n",
      "Poland            55.088349\n",
      "Germany           55.075379\n",
      "France            55.066086\n",
      "Ireland           55.063532\n",
      "Portugal          55.039448\n",
      "Slovakia          55.030773\n",
      "Romania           55.018839\n",
      "Lithuania         55.016009\n",
      "Sweden            55.015741\n",
      "Croatia           55.009144\n",
      "Greece            55.000424\n",
      "Czech Republic    54.995074\n",
      "Netherlands       54.986199\n",
      "Latvia            54.975772\n",
      "Austria           54.971248\n",
      "Slovenia          54.955885\n",
      "Malta             54.955255\n",
      "Belgium           54.949191\n",
      "Denmark           54.946978\n",
      "Finland           54.943869\n",
      "Hungary           54.942816\n",
      "Luxembourg        54.938647\n",
      "Cyprus            54.928176\n",
      "Spain             54.916591\n",
      "Name: age, dtype: float64 \n",
      "\n"
     ]
    }
   ],
   "source": [
    "#1.5 code for average age based on countries\n",
    "avg_country = data.groupby(\"country\")[\"age\"].mean()\n",
    "print(\"Age at diagnosis across countries:\\n\",avg_country.sort_values(ascending=False),\"\\n\")"
   ]
  },
  {
   "cell_type": "code",
   "execution_count": 15,
   "id": "4801d152-7f60-4228-8240-72b4912213fd",
   "metadata": {},
   "outputs": [
    {
     "name": "stdout",
     "output_type": "stream",
     "text": [
      "Age at diagnosis across different cancer stages:\n",
      " cancer_stage\n",
      "Stage I      54.992805\n",
      "Stage II     55.000360\n",
      "Stage III    55.023801\n",
      "Stage IV     55.011055\n",
      "Name: age, dtype: float64 \n",
      "\n"
     ]
    }
   ],
   "source": [
    "#1.5.2\n",
    "avg_stage = data.groupby(\"cancer_stage\")[\"age\"].mean()\n",
    "print(\"Age at diagnosis across different cancer stages:\\n\",avg_stage,\"\\n\")"
   ]
  },
  {
   "cell_type": "code",
   "execution_count": 16,
   "id": "1da92dac-1977-434b-bafa-3c8ba5662ca0",
   "metadata": {},
   "outputs": [
    {
     "data": {
      "image/png": "[encoded data removed]",
      "text/plain": [
       "<Figure size 640x480 with 1 Axes>"
      ]
     },
     "metadata": {},
     "output_type": "display_data"
    }
   ],
   "source": [
    "sns.stripplot(x='cancer_stage',y='age',data=data)\n",
    "plt.show()"
   ]
  },
  {
   "cell_type": "code",
   "execution_count": 17,
   "id": "8cb1e205-fe02-4286-9d65-d8d8614038a8",
   "metadata": {
    "scrolled": true
   },
   "outputs": [
    {
     "data": {
      "text/html": [
       "<div>\n",
       "<style scoped>\n",
       "    .dataframe tbody tr th:only-of-type {\n",
       "        vertical-align: middle;\n",
       "    }\n",
       "\n",
       "    .dataframe tbody tr th {\n",
       "        vertical-align: top;\n",
       "    }\n",
       "\n",
       "    .dataframe thead th {\n",
       "        text-align: right;\n",
       "    }\n",
       "</style>\n",
       "<table border=\"1\" class=\"dataframe\">\n",
       "  <thead>\n",
       "    <tr style=\"text-align: right;\">\n",
       "      <th>treatment_type</th>\n",
       "      <th>Chemotherapy</th>\n",
       "      <th>Combined</th>\n",
       "      <th>Radiation</th>\n",
       "      <th>Surgery</th>\n",
       "    </tr>\n",
       "    <tr>\n",
       "      <th>age_group</th>\n",
       "      <th></th>\n",
       "      <th></th>\n",
       "      <th></th>\n",
       "      <th></th>\n",
       "    </tr>\n",
       "  </thead>\n",
       "  <tbody>\n",
       "    <tr>\n",
       "      <th>0-20</th>\n",
       "      <td>66</td>\n",
       "      <td>62</td>\n",
       "      <td>68</td>\n",
       "      <td>64</td>\n",
       "    </tr>\n",
       "    <tr>\n",
       "      <th>20-40</th>\n",
       "      <td>16351</td>\n",
       "      <td>16433</td>\n",
       "      <td>16076</td>\n",
       "      <td>16147</td>\n",
       "    </tr>\n",
       "    <tr>\n",
       "      <th>40-60</th>\n",
       "      <td>141472</td>\n",
       "      <td>141323</td>\n",
       "      <td>140504</td>\n",
       "      <td>141902</td>\n",
       "    </tr>\n",
       "    <tr>\n",
       "      <th>60-80</th>\n",
       "      <td>64198</td>\n",
       "      <td>63585</td>\n",
       "      <td>63025</td>\n",
       "      <td>63931</td>\n",
       "    </tr>\n",
       "    <tr>\n",
       "      <th>80-110</th>\n",
       "      <td>1175</td>\n",
       "      <td>1206</td>\n",
       "      <td>1195</td>\n",
       "      <td>1217</td>\n",
       "    </tr>\n",
       "  </tbody>\n",
       "</table>\n",
       "</div>"
      ],
      "text/plain": [
       "treatment_type  Chemotherapy  Combined  Radiation  Surgery\n",
       "age_group                                                 \n",
       "0-20                      66        62         68       64\n",
       "20-40                  16351     16433      16076    16147\n",
       "40-60                 141472    141323     140504   141902\n",
       "60-80                  64198     63585      63025    63931\n",
       "80-110                  1175      1206       1195     1217"
      ]
     },
     "execution_count": 17,
     "metadata": {},
     "output_type": "execute_result"
    }
   ],
   "source": [
    "#1.5.3 code\n",
    "treatment=pd.crosstab(data[\"age_group\"],data[\"treatment_type\"])\n",
    "treatment"
   ]
  },
  {
   "cell_type": "markdown",
   "id": "dd613c4a-3a8b-4b64-81c3-147ed99313f9",
   "metadata": {},
   "source": [
    "## 2. Cancer Stage & Survival Analysis"
   ]
  },
  {
   "cell_type": "markdown",
   "id": "9eaf7885-a594-4eb1-a6e5-29811d2ff3b5",
   "metadata": {},
   "source": [
    "(i)\tWhat are the survival rates across different cancer stages (Stage I to IV)?"
   ]
  },
  {
   "cell_type": "code",
   "execution_count": 18,
   "id": "0c3f62a7-6120-416e-9ee4-5db97002ca76",
   "metadata": {},
   "outputs": [
    {
     "name": "stdout",
     "output_type": "stream",
     "text": [
      "The survival rates across different cancer stages:\n",
      " cancer_stage\n",
      "Stage I      21.813263\n",
      "Stage II     22.089107\n",
      "Stage III    22.052706\n",
      "Stage IV     22.136640\n",
      "Name: survived, dtype: float64\n"
     ]
    }
   ],
   "source": [
    "#2.1 code\n",
    "survival_rate = data.groupby(\"cancer_stage\")[\"survived\"].mean()*100\n",
    "print(\"The survival rates across different cancer stages:\\n\", survival_rate)"
   ]
  },
  {
   "cell_type": "markdown",
   "id": "56acbb4a-c12f-4cb3-92e4-ba4a2c9f72e1",
   "metadata": {},
   "source": [
    "(ii) Which cancer stage has the highest death rate?"
   ]
  },
  {
   "cell_type": "code",
   "execution_count": 19,
   "id": "14b5896c-5425-4e40-9be5-4126650b5bc0",
   "metadata": {
    "scrolled": true
   },
   "outputs": [
    {
     "name": "stdout",
     "output_type": "stream",
     "text": [
      "Total deatn rate:\n",
      " cancer_stage\n",
      "Stage I      78.186737\n",
      "Stage II     77.910893\n",
      "Stage III    77.947294\n",
      "Stage IV     77.863360\n",
      "dtype: float64\n",
      "The highest death rate is  Stage I  with death rate: 78.1867371335095\n"
     ]
    }
   ],
   "source": [
    "#2.2 code\n",
    "deaths = data[data['survived'] == 0].groupby('cancer_stage').size()*100\n",
    "totals = data.groupby('cancer_stage').size()\n",
    "death_rate = deaths / totals\n",
    "most_stage = death_rate.idxmax()\n",
    "print(\"Total deatn rate:\\n\",death_rate)\n",
    "max_death_rate = death_rate.max()\n",
    "print(\"The highest death rate is \", most_stage,\" with death rate:\",max_death_rate)"
   ]
  },
  {
   "cell_type": "markdown",
   "id": "108c5d5e-14a7-4b7a-8b06-9fe9f6e4c9e7",
   "metadata": {},
   "source": [
    "(iii) How does survival probability change across different age groups?"
   ]
  },
  {
   "cell_type": "code",
   "execution_count": 20,
   "id": "3cf146c9-f373-4b29-9cbf-c97985f10e46",
   "metadata": {},
   "outputs": [
    {
     "data": {
      "text/html": [
       "<div>\n",
       "<style scoped>\n",
       "    .dataframe tbody tr th:only-of-type {\n",
       "        vertical-align: middle;\n",
       "    }\n",
       "\n",
       "    .dataframe tbody tr th {\n",
       "        vertical-align: top;\n",
       "    }\n",
       "\n",
       "    .dataframe thead th {\n",
       "        text-align: right;\n",
       "    }\n",
       "</style>\n",
       "<table border=\"1\" class=\"dataframe\">\n",
       "  <thead>\n",
       "    <tr style=\"text-align: right;\">\n",
       "      <th></th>\n",
       "      <th>age_group</th>\n",
       "      <th>probability_survival</th>\n",
       "    </tr>\n",
       "  </thead>\n",
       "  <tbody>\n",
       "    <tr>\n",
       "      <th>0</th>\n",
       "      <td>0-20</td>\n",
       "      <td>0.261538</td>\n",
       "    </tr>\n",
       "    <tr>\n",
       "      <th>1</th>\n",
       "      <td>20-40</td>\n",
       "      <td>0.217161</td>\n",
       "    </tr>\n",
       "    <tr>\n",
       "      <th>2</th>\n",
       "      <td>40-60</td>\n",
       "      <td>0.220461</td>\n",
       "    </tr>\n",
       "    <tr>\n",
       "      <th>3</th>\n",
       "      <td>60-80</td>\n",
       "      <td>0.220465</td>\n",
       "    </tr>\n",
       "    <tr>\n",
       "      <th>4</th>\n",
       "      <td>80-110</td>\n",
       "      <td>0.219695</td>\n",
       "    </tr>\n",
       "  </tbody>\n",
       "</table>\n",
       "</div>"
      ],
      "text/plain": [
       "  age_group  probability_survival\n",
       "0      0-20              0.261538\n",
       "1     20-40              0.217161\n",
       "2     40-60              0.220461\n",
       "3     60-80              0.220465\n",
       "4    80-110              0.219695"
      ]
     },
     "execution_count": 20,
     "metadata": {},
     "output_type": "execute_result"
    }
   ],
   "source": [
    "#2.3 code\n",
    "survival_probability = data.groupby(\"age_group\",observed=True\n",
    "                            )[\"survived\"].mean().reset_index(name=\"probability_survival\")\n",
    "survival_probability"
   ]
  },
  {
   "cell_type": "markdown",
   "id": "62edd29f-b30f-4bb3-9c87-500f98594b0f",
   "metadata": {},
   "source": [
    "(iv) What is the impact of early-stage vs late-stage diagnosis on survival outcomes?"
   ]
  },
  {
   "cell_type": "code",
   "execution_count": 21,
   "id": "377b484e-8dd7-4c9c-843e-c31f1b752b3c",
   "metadata": {},
   "outputs": [
    {
     "data": {
      "text/html": [
       "<div>\n",
       "<style scoped>\n",
       "    .dataframe tbody tr th:only-of-type {\n",
       "        vertical-align: middle;\n",
       "    }\n",
       "\n",
       "    .dataframe tbody tr th {\n",
       "        vertical-align: top;\n",
       "    }\n",
       "\n",
       "    .dataframe thead th {\n",
       "        text-align: right;\n",
       "    }\n",
       "</style>\n",
       "<table border=\"1\" class=\"dataframe\">\n",
       "  <thead>\n",
       "    <tr style=\"text-align: right;\">\n",
       "      <th></th>\n",
       "      <th>survived</th>\n",
       "      <th>cancer_stage</th>\n",
       "      <th>grouped_stage</th>\n",
       "    </tr>\n",
       "  </thead>\n",
       "  <tbody>\n",
       "    <tr>\n",
       "      <th>0</th>\n",
       "      <td>0</td>\n",
       "      <td>Stage I</td>\n",
       "      <td>early_stage</td>\n",
       "    </tr>\n",
       "    <tr>\n",
       "      <th>1</th>\n",
       "      <td>1</td>\n",
       "      <td>Stage III</td>\n",
       "      <td>late_stage</td>\n",
       "    </tr>\n",
       "    <tr>\n",
       "      <th>2</th>\n",
       "      <td>0</td>\n",
       "      <td>Stage III</td>\n",
       "      <td>late_stage</td>\n",
       "    </tr>\n",
       "    <tr>\n",
       "      <th>3</th>\n",
       "      <td>0</td>\n",
       "      <td>Stage I</td>\n",
       "      <td>early_stage</td>\n",
       "    </tr>\n",
       "    <tr>\n",
       "      <th>4</th>\n",
       "      <td>0</td>\n",
       "      <td>Stage I</td>\n",
       "      <td>early_stage</td>\n",
       "    </tr>\n",
       "    <tr>\n",
       "      <th>...</th>\n",
       "      <td>...</td>\n",
       "      <td>...</td>\n",
       "      <td>...</td>\n",
       "    </tr>\n",
       "    <tr>\n",
       "      <th>889995</th>\n",
       "      <td>0</td>\n",
       "      <td>Stage IV</td>\n",
       "      <td>late_stage</td>\n",
       "    </tr>\n",
       "    <tr>\n",
       "      <th>889996</th>\n",
       "      <td>0</td>\n",
       "      <td>Stage II</td>\n",
       "      <td>early_stage</td>\n",
       "    </tr>\n",
       "    <tr>\n",
       "      <th>889997</th>\n",
       "      <td>1</td>\n",
       "      <td>Stage III</td>\n",
       "      <td>late_stage</td>\n",
       "    </tr>\n",
       "    <tr>\n",
       "      <th>889998</th>\n",
       "      <td>0</td>\n",
       "      <td>Stage IV</td>\n",
       "      <td>late_stage</td>\n",
       "    </tr>\n",
       "    <tr>\n",
       "      <th>889999</th>\n",
       "      <td>0</td>\n",
       "      <td>Stage II</td>\n",
       "      <td>early_stage</td>\n",
       "    </tr>\n",
       "  </tbody>\n",
       "</table>\n",
       "<p>890000 rows × 3 columns</p>\n",
       "</div>"
      ],
      "text/plain": [
       "        survived cancer_stage grouped_stage\n",
       "0              0      Stage I   early_stage\n",
       "1              1    Stage III    late_stage\n",
       "2              0    Stage III    late_stage\n",
       "3              0      Stage I   early_stage\n",
       "4              0      Stage I   early_stage\n",
       "...          ...          ...           ...\n",
       "889995         0     Stage IV    late_stage\n",
       "889996         0     Stage II   early_stage\n",
       "889997         1    Stage III    late_stage\n",
       "889998         0     Stage IV    late_stage\n",
       "889999         0     Stage II   early_stage\n",
       "\n",
       "[890000 rows x 3 columns]"
      ]
     },
     "execution_count": 21,
     "metadata": {},
     "output_type": "execute_result"
    }
   ],
   "source": [
    "#2.4 code\n",
    "df=data[['survived','cancer_stage']].copy()\n",
    "df['grouped_stage']=df['cancer_stage'].map({'Stage I':'early_stage','Stage II':'early_stage','Stage III':'late_stage','Stage IV':'late_stage'})\n",
    "df"
   ]
  },
  {
   "cell_type": "code",
   "execution_count": 22,
   "id": "4d6bcf04-2878-44fb-9967-81838db52584",
   "metadata": {},
   "outputs": [
    {
     "name": "stdout",
     "output_type": "stream",
     "text": [
      "\n",
      "impact of early-stage vs late-stage diagnosis on survival outcomes\n",
      "\n"
     ]
    },
    {
     "data": {
      "text/html": [
       "<div>\n",
       "<style scoped>\n",
       "    .dataframe tbody tr th:only-of-type {\n",
       "        vertical-align: middle;\n",
       "    }\n",
       "\n",
       "    .dataframe tbody tr th {\n",
       "        vertical-align: top;\n",
       "    }\n",
       "\n",
       "    .dataframe thead th {\n",
       "        text-align: right;\n",
       "    }\n",
       "</style>\n",
       "<table border=\"1\" class=\"dataframe\">\n",
       "  <thead>\n",
       "    <tr style=\"text-align: right;\">\n",
       "      <th></th>\n",
       "      <th>grouped_stage</th>\n",
       "      <th>survival_rate</th>\n",
       "    </tr>\n",
       "  </thead>\n",
       "  <tbody>\n",
       "    <tr>\n",
       "      <th>0</th>\n",
       "      <td>early_stage</td>\n",
       "      <td>21.951137</td>\n",
       "    </tr>\n",
       "    <tr>\n",
       "      <th>1</th>\n",
       "      <td>late_stage</td>\n",
       "      <td>22.094666</td>\n",
       "    </tr>\n",
       "  </tbody>\n",
       "</table>\n",
       "</div>"
      ],
      "text/plain": [
       "  grouped_stage  survival_rate\n",
       "0   early_stage      21.951137\n",
       "1    late_stage      22.094666"
      ]
     },
     "execution_count": 22,
     "metadata": {},
     "output_type": "execute_result"
    }
   ],
   "source": [
    "survival_rate=df.groupby('grouped_stage')['survived'].mean()*100\n",
    "survival_rate=survival_rate.reset_index(name=\"survival_rate\")\n",
    "print(\"\\nimpact of early-stage vs late-stage diagnosis on survival outcomes\\n\")\n",
    "survival_rate"
   ]
  },
  {
   "cell_type": "code",
   "execution_count": 23,
   "id": "b3430838-30c1-4a45-89e1-60f6d311a0a6",
   "metadata": {},
   "outputs": [
    {
     "data": {
      "text/plain": [
       "[]"
      ]
     },
     "execution_count": 23,
     "metadata": {},
     "output_type": "execute_result"
    },
    {
     "data": {
      "image/png": "[encoded data removed]",
      "text/plain": [
       "<Figure size 640x480 with 1 Axes>"
      ]
     },
     "metadata": {},
     "output_type": "display_data"
    }
   ],
   "source": [
    "sns.barplot(y='survived',x='age_group',data=data)\n",
    "plt.plot()"
   ]
  },
  {
   "cell_type": "markdown",
   "id": "1466bc30-bbac-4439-aa83-23fc9951f3de",
   "metadata": {},
   "source": [
    "(v) How is cancer stage distributed among patients at the time of diagnosis?"
   ]
  },
  {
   "cell_type": "code",
   "execution_count": 24,
   "id": "e29e33de-e6c5-427c-b420-367b292064f7",
   "metadata": {},
   "outputs": [
    {
     "name": "stdout",
     "output_type": "stream",
     "text": [
      "               Count  Percentage\n",
      "cancer_stage                    \n",
      "Stage I       222516      25.002\n",
      "Stage II      222363      24.985\n",
      "Stage III     222594      25.011\n",
      "Stage IV      222527      25.003\n"
     ]
    }
   ],
   "source": [
    "#2.5 code\n",
    "stage_counts = data['cancer_stage'].value_counts().sort_index()\n",
    "stage_percent = data['cancer_stage'].value_counts(normalize=True).sort_index()*100\n",
    "stage_distribution = pd.DataFrame({\n",
    "    'Count': stage_counts,\n",
    "    'Percentage': stage_percent.round(3)\n",
    "})\n",
    "print(stage_distribution)"
   ]
  },
  {
   "cell_type": "code",
   "execution_count": 25,
   "id": "e92b8182-0938-41a6-b970-0ed683211eb0",
   "metadata": {},
   "outputs": [
    {
     "data": {
      "image/png": "[encoded data removed]",
      "text/plain": [
       "<Figure size 800x500 with 1 Axes>"
      ]
     },
     "metadata": {},
     "output_type": "display_data"
    }
   ],
   "source": [
    "plt.figure(figsize=(8, 5))\n",
    "stage_counts.plot(kind='bar', color='skyblue', edgecolor='black')\n",
    "plt.title('Distribution of Cancer Stages at Diagnosis')\n",
    "plt.xlabel('Cancer Stage')\n",
    "plt.ylabel('Number of Patients')\n",
    "plt.xticks(rotation=0)\n",
    "plt.grid(axis='y', linestyle='--')\n",
    "plt.show()"
   ]
  },
  {
   "cell_type": "markdown",
   "id": "7f42b683-63a5-44a2-ba80-76222fd7c474",
   "metadata": {},
   "source": [
    "## 3. Treatment Effectiveness & Patterns"
   ]
  },
  {
   "cell_type": "markdown",
   "id": "269ecfb4-e7c0-4f6f-a7e1-ba2859cd1dd7",
   "metadata": {},
   "source": [
    "(i) Which treatment types (Chemotherapy, Surgery, Radiation, Combined) yield the highest survival rates for each cancer stage?"
   ]
  },
  {
   "cell_type": "code",
   "execution_count": 26,
   "id": "3fbdcab1-05b4-403d-b82c-5b18a80168eb",
   "metadata": {},
   "outputs": [
    {
     "name": "stdout",
     "output_type": "stream",
     "text": [
      "Treatment type yielding highest survival rate for each cancer stage:\n",
      "\n"
     ]
    },
    {
     "data": {
      "text/html": [
       "<div>\n",
       "<style scoped>\n",
       "    .dataframe tbody tr th:only-of-type {\n",
       "        vertical-align: middle;\n",
       "    }\n",
       "\n",
       "    .dataframe tbody tr th {\n",
       "        vertical-align: top;\n",
       "    }\n",
       "\n",
       "    .dataframe thead th {\n",
       "        text-align: right;\n",
       "    }\n",
       "</style>\n",
       "<table border=\"1\" class=\"dataframe\">\n",
       "  <thead>\n",
       "    <tr style=\"text-align: right;\">\n",
       "      <th></th>\n",
       "      <th>treatment_type</th>\n",
       "      <th>survival</th>\n",
       "    </tr>\n",
       "  </thead>\n",
       "  <tbody>\n",
       "    <tr>\n",
       "      <th>3</th>\n",
       "      <td>Surgery</td>\n",
       "      <td>22.149860</td>\n",
       "    </tr>\n",
       "    <tr>\n",
       "      <th>2</th>\n",
       "      <td>Radiation</td>\n",
       "      <td>22.055707</td>\n",
       "    </tr>\n",
       "    <tr>\n",
       "      <th>1</th>\n",
       "      <td>Combined</td>\n",
       "      <td>22.012587</td>\n",
       "    </tr>\n",
       "    <tr>\n",
       "      <th>0</th>\n",
       "      <td>Chemotherapy</td>\n",
       "      <td>21.873852</td>\n",
       "    </tr>\n",
       "  </tbody>\n",
       "</table>\n",
       "</div>"
      ],
      "text/plain": [
       "  treatment_type   survival\n",
       "3        Surgery  22.149860\n",
       "2      Radiation  22.055707\n",
       "1       Combined  22.012587\n",
       "0   Chemotherapy  21.873852"
      ]
     },
     "execution_count": 26,
     "metadata": {},
     "output_type": "execute_result"
    }
   ],
   "source": [
    "#3.1 code\n",
    "highest_survival=(data.groupby(\"treatment_type\")[\"survived\"].mean()*100).reset_index(name=\"survival\")\n",
    "print(\"Treatment type yielding highest survival rate for each cancer stage:\\n\")\n",
    "highest_survival.sort_values(by=\"survival\",ascending=False).head()"
   ]
  },
  {
   "cell_type": "markdown",
   "id": "4eebc237-496e-408d-9acd-f5ae6fb42a55",
   "metadata": {},
   "source": [
    "(ii) What treatment method is most commonly used, and does it vary by cancer stage?"
   ]
  },
  {
   "cell_type": "code",
   "execution_count": 27,
   "id": "d3c9168e-8c1e-4784-897e-3200620370e9",
   "metadata": {},
   "outputs": [
    {
     "name": "stdout",
     "output_type": "stream",
     "text": [
      "The most commonly used treatment is : Chemotherapy  with count: 223262\n"
     ]
    }
   ],
   "source": [
    "#3.2.1\n",
    "treatment_used=data[\"treatment_type\"].value_counts()\n",
    "treatment_id=treatment_used.idxmax()\n",
    "print(\"The most commonly used treatment is :\" ,treatment_id,\" with count:\", max(treatment_used))"
   ]
  },
  {
   "cell_type": "code",
   "execution_count": 28,
   "id": "fbd5d1e6-85ee-435b-9752-d7bc968f1595",
   "metadata": {
    "scrolled": true
   },
   "outputs": [
    {
     "name": "stdout",
     "output_type": "stream",
     "text": [
      "treatment_type  Chemotherapy  Combined  Radiation  Surgery\n",
      "cancer_stage                                              \n",
      "Stage I                55664     55377      55462    56013\n",
      "Stage II               55763     55506      55210    55884\n",
      "Stage III              55910     55910      54972    55802\n",
      "Stage IV               55925     55816      55224    55562\n"
     ]
    }
   ],
   "source": [
    "#3.2.2 code\n",
    "vary_order=pd.crosstab(data[\"cancer_stage\"],data[\"treatment_type\"])\n",
    "print(vary_order)"
   ]
  },
  {
   "cell_type": "code",
   "execution_count": 29,
   "id": "afe5d174-c486-407f-a269-5b7ead4b4f25",
   "metadata": {},
   "outputs": [
    {
     "data": {
      "text/plain": [
       "<Figure size 400x200 with 0 Axes>"
      ]
     },
     "metadata": {},
     "output_type": "display_data"
    },
    {
     "data": {
      "image/png": "[encoded data removed]",
      "text/plain": [
       "<Figure size 640x480 with 1 Axes>"
      ]
     },
     "metadata": {},
     "output_type": "display_data"
    }
   ],
   "source": [
    "#3.2.3 code\n",
    "plt.figure(figsize=(4,2))\n",
    "vary_order.plot(kind=\"bar\",cmap=\"BrBG\",edgecolor=\"black\")\n",
    "plt.ylabel(\"treatment type\")\n",
    "plt.xlabel(\"cancer stage\")\n",
    "plt.xticks(rotation=0)\n",
    "plt.show()"
   ]
  },
  {
   "cell_type": "markdown",
   "id": "f9598b5c-e9da-4f5b-bdb4-726f0fb9e45e",
   "metadata": {},
   "source": [
    "(iii) What is the survival rate for patients receiving combination treatment vs. single treatment methods?"
   ]
  },
  {
   "cell_type": "code",
   "execution_count": 30,
   "id": "1f9da926-1e90-4d38-8e96-c9145cfd33bf",
   "metadata": {},
   "outputs": [
    {
     "name": "stdout",
     "output_type": "stream",
     "text": [
      "\n",
      "survival rate for patients receiving combination treatment vs. single treatment:\n"
     ]
    },
    {
     "data": {
      "text/html": [
       "<div>\n",
       "<style scoped>\n",
       "    .dataframe tbody tr th:only-of-type {\n",
       "        vertical-align: middle;\n",
       "    }\n",
       "\n",
       "    .dataframe tbody tr th {\n",
       "        vertical-align: top;\n",
       "    }\n",
       "\n",
       "    .dataframe thead th {\n",
       "        text-align: right;\n",
       "    }\n",
       "</style>\n",
       "<table border=\"1\" class=\"dataframe\">\n",
       "  <thead>\n",
       "    <tr style=\"text-align: right;\">\n",
       "      <th></th>\n",
       "      <th>treatment_type</th>\n",
       "      <th>survival_rate</th>\n",
       "    </tr>\n",
       "  </thead>\n",
       "  <tbody>\n",
       "    <tr>\n",
       "      <th>0</th>\n",
       "      <td>combined</td>\n",
       "      <td>22.0</td>\n",
       "    </tr>\n",
       "    <tr>\n",
       "      <th>1</th>\n",
       "      <td>single</td>\n",
       "      <td>22.0</td>\n",
       "    </tr>\n",
       "  </tbody>\n",
       "</table>\n",
       "</div>"
      ],
      "text/plain": [
       "  treatment_type  survival_rate\n",
       "0       combined           22.0\n",
       "1         single           22.0"
      ]
     },
     "execution_count": 30,
     "metadata": {},
     "output_type": "execute_result"
    }
   ],
   "source": [
    "#3.3 code\n",
    "treatment_group=data['treatment_type'].apply(lambda x:'combined' if x=='Combined' else 'single')\n",
    "df=pd.DataFrame(treatment_group)\n",
    "df['survived']=data['survived']\n",
    "survival_rate=df.groupby('treatment_type')['survived'].mean()*100\n",
    "survival_rate=survival_rate.reset_index(name='survival_rate').round()\n",
    "print(\"\\nsurvival rate for patients receiving combination treatment vs. single treatment:\")\n",
    "survival_rate"
   ]
  },
  {
   "cell_type": "code",
   "execution_count": 31,
   "id": "52e46e6d-bbb8-428c-b568-8a8c43218f08",
   "metadata": {
    "scrolled": true
   },
   "outputs": [
    {
     "data": {
      "text/plain": [
       "treatment_type\n",
       "Chemotherapy    458.395\n",
       "Combined        457.815\n",
       "Radiation       458.403\n",
       "Surgery         457.737\n",
       "Name: treatment_duration, dtype: float64"
      ]
     },
     "execution_count": 31,
     "metadata": {},
     "output_type": "execute_result"
    }
   ],
   "source": [
    "mean_duration = data.groupby(\"treatment_type\")[\"treatment_duration\"].mean().round(3)\n",
    "mean_duration"
   ]
  },
  {
   "cell_type": "markdown",
   "id": "e47614cb-77cc-4eaf-9a13-8e16da56da6c",
   "metadata": {},
   "source": [
    "(iv)What is the average treatment duration from diagnosis to completion, and how does this impact survival?"
   ]
  },
  {
   "cell_type": "code",
   "execution_count": 32,
   "id": "bd1db217-e7ad-46c7-a1df-84ac4a93ffed",
   "metadata": {},
   "outputs": [],
   "source": [
    "avg_duration=data.groupby('treatment_type')['treatment_duration'].mean().round(3).reset_index(name='average_duration(days)')"
   ]
  },
  {
   "cell_type": "code",
   "execution_count": 33,
   "id": "03e2b5b3-bd78-4d72-a059-80285611d3d8",
   "metadata": {},
   "outputs": [],
   "source": [
    "survival_by_treatment=data.groupby('treatment_type')['survived'].mean()*100\n",
    "survival_by_treatment=survival_by_treatment.reset_index(name='survival_rate(%)').round(2)"
   ]
  },
  {
   "cell_type": "code",
   "execution_count": 34,
   "id": "b345342a-e063-453f-9178-e70a34c1c227",
   "metadata": {},
   "outputs": [
    {
     "name": "stdout",
     "output_type": "stream",
     "text": [
      "\n",
      "relating survival probability with treatment type and its duration\n",
      "\n"
     ]
    },
    {
     "data": {
      "text/html": [
       "<div>\n",
       "<style scoped>\n",
       "    .dataframe tbody tr th:only-of-type {\n",
       "        vertical-align: middle;\n",
       "    }\n",
       "\n",
       "    .dataframe tbody tr th {\n",
       "        vertical-align: top;\n",
       "    }\n",
       "\n",
       "    .dataframe thead th {\n",
       "        text-align: right;\n",
       "    }\n",
       "</style>\n",
       "<table border=\"1\" class=\"dataframe\">\n",
       "  <thead>\n",
       "    <tr style=\"text-align: right;\">\n",
       "      <th></th>\n",
       "      <th>treatment_type</th>\n",
       "      <th>average_duration(days)</th>\n",
       "      <th>survival_rate(%)</th>\n",
       "    </tr>\n",
       "  </thead>\n",
       "  <tbody>\n",
       "    <tr>\n",
       "      <th>0</th>\n",
       "      <td>Chemotherapy</td>\n",
       "      <td>458.395</td>\n",
       "      <td>21.87</td>\n",
       "    </tr>\n",
       "    <tr>\n",
       "      <th>1</th>\n",
       "      <td>Combined</td>\n",
       "      <td>457.815</td>\n",
       "      <td>22.01</td>\n",
       "    </tr>\n",
       "    <tr>\n",
       "      <th>2</th>\n",
       "      <td>Radiation</td>\n",
       "      <td>458.403</td>\n",
       "      <td>22.06</td>\n",
       "    </tr>\n",
       "    <tr>\n",
       "      <th>3</th>\n",
       "      <td>Surgery</td>\n",
       "      <td>457.737</td>\n",
       "      <td>22.15</td>\n",
       "    </tr>\n",
       "  </tbody>\n",
       "</table>\n",
       "</div>"
      ],
      "text/plain": [
       "  treatment_type  average_duration(days)  survival_rate(%)\n",
       "0   Chemotherapy                 458.395             21.87\n",
       "1       Combined                 457.815             22.01\n",
       "2      Radiation                 458.403             22.06\n",
       "3        Surgery                 457.737             22.15"
      ]
     },
     "execution_count": 34,
     "metadata": {},
     "output_type": "execute_result"
    }
   ],
   "source": [
    "print(\"\\nrelating survival probability with treatment type and its duration\\n\")\n",
    "avg_duration.merge(survival_by_treatment,on='treatment_type')"
   ]
  },
  {
   "cell_type": "markdown",
   "id": "f0152857-eaf6-4307-acf5-9a02784bdddd",
   "metadata": {},
   "source": [
    "(v) Are treatment durations shorter in patient profiles or countries with higher survival rates?"
   ]
  },
  {
   "cell_type": "code",
   "execution_count": 35,
   "id": "87d75446-c759-4d52-892a-568b056bc4ca",
   "metadata": {},
   "outputs": [
    {
     "data": {
      "text/html": [
       "<div>\n",
       "<style scoped>\n",
       "    .dataframe tbody tr th:only-of-type {\n",
       "        vertical-align: middle;\n",
       "    }\n",
       "\n",
       "    .dataframe tbody tr th {\n",
       "        vertical-align: top;\n",
       "    }\n",
       "\n",
       "    .dataframe thead th {\n",
       "        text-align: right;\n",
       "    }\n",
       "</style>\n",
       "<table border=\"1\" class=\"dataframe\">\n",
       "  <thead>\n",
       "    <tr style=\"text-align: right;\">\n",
       "      <th></th>\n",
       "      <th>age_group</th>\n",
       "      <th>cancer_stage</th>\n",
       "      <th>survived</th>\n",
       "      <th>treatment_duration</th>\n",
       "    </tr>\n",
       "  </thead>\n",
       "  <tbody>\n",
       "    <tr>\n",
       "      <th>0</th>\n",
       "      <td>0-20</td>\n",
       "      <td>Stage I</td>\n",
       "      <td>36.92</td>\n",
       "      <td>498.65</td>\n",
       "    </tr>\n",
       "    <tr>\n",
       "      <th>1</th>\n",
       "      <td>0-20</td>\n",
       "      <td>Stage II</td>\n",
       "      <td>23.73</td>\n",
       "      <td>491.20</td>\n",
       "    </tr>\n",
       "    <tr>\n",
       "      <th>2</th>\n",
       "      <td>0-20</td>\n",
       "      <td>Stage III</td>\n",
       "      <td>17.65</td>\n",
       "      <td>451.84</td>\n",
       "    </tr>\n",
       "    <tr>\n",
       "      <th>3</th>\n",
       "      <td>0-20</td>\n",
       "      <td>Stage IV</td>\n",
       "      <td>26.47</td>\n",
       "      <td>408.07</td>\n",
       "    </tr>\n",
       "    <tr>\n",
       "      <th>4</th>\n",
       "      <td>20-40</td>\n",
       "      <td>Stage I</td>\n",
       "      <td>21.71</td>\n",
       "      <td>512.76</td>\n",
       "    </tr>\n",
       "    <tr>\n",
       "      <th>5</th>\n",
       "      <td>20-40</td>\n",
       "      <td>Stage II</td>\n",
       "      <td>21.75</td>\n",
       "      <td>476.89</td>\n",
       "    </tr>\n",
       "    <tr>\n",
       "      <th>6</th>\n",
       "      <td>20-40</td>\n",
       "      <td>Stage III</td>\n",
       "      <td>21.78</td>\n",
       "      <td>440.80</td>\n",
       "    </tr>\n",
       "    <tr>\n",
       "      <th>7</th>\n",
       "      <td>20-40</td>\n",
       "      <td>Stage IV</td>\n",
       "      <td>21.62</td>\n",
       "      <td>403.68</td>\n",
       "    </tr>\n",
       "    <tr>\n",
       "      <th>8</th>\n",
       "      <td>40-60</td>\n",
       "      <td>Stage I</td>\n",
       "      <td>21.89</td>\n",
       "      <td>512.41</td>\n",
       "    </tr>\n",
       "    <tr>\n",
       "      <th>9</th>\n",
       "      <td>40-60</td>\n",
       "      <td>Stage II</td>\n",
       "      <td>22.05</td>\n",
       "      <td>475.79</td>\n",
       "    </tr>\n",
       "    <tr>\n",
       "      <th>10</th>\n",
       "      <td>40-60</td>\n",
       "      <td>Stage III</td>\n",
       "      <td>22.09</td>\n",
       "      <td>440.45</td>\n",
       "    </tr>\n",
       "    <tr>\n",
       "      <th>11</th>\n",
       "      <td>40-60</td>\n",
       "      <td>Stage IV</td>\n",
       "      <td>22.16</td>\n",
       "      <td>403.00</td>\n",
       "    </tr>\n",
       "    <tr>\n",
       "      <th>12</th>\n",
       "      <td>60-80</td>\n",
       "      <td>Stage I</td>\n",
       "      <td>21.64</td>\n",
       "      <td>513.11</td>\n",
       "    </tr>\n",
       "    <tr>\n",
       "      <th>13</th>\n",
       "      <td>60-80</td>\n",
       "      <td>Stage II</td>\n",
       "      <td>22.26</td>\n",
       "      <td>475.81</td>\n",
       "    </tr>\n",
       "    <tr>\n",
       "      <th>14</th>\n",
       "      <td>60-80</td>\n",
       "      <td>Stage III</td>\n",
       "      <td>22.07</td>\n",
       "      <td>439.96</td>\n",
       "    </tr>\n",
       "    <tr>\n",
       "      <th>15</th>\n",
       "      <td>60-80</td>\n",
       "      <td>Stage IV</td>\n",
       "      <td>22.21</td>\n",
       "      <td>404.68</td>\n",
       "    </tr>\n",
       "    <tr>\n",
       "      <th>16</th>\n",
       "      <td>80-110</td>\n",
       "      <td>Stage I</td>\n",
       "      <td>22.79</td>\n",
       "      <td>512.78</td>\n",
       "    </tr>\n",
       "    <tr>\n",
       "      <th>17</th>\n",
       "      <td>80-110</td>\n",
       "      <td>Stage II</td>\n",
       "      <td>22.11</td>\n",
       "      <td>476.19</td>\n",
       "    </tr>\n",
       "    <tr>\n",
       "      <th>18</th>\n",
       "      <td>80-110</td>\n",
       "      <td>Stage III</td>\n",
       "      <td>21.04</td>\n",
       "      <td>436.08</td>\n",
       "    </tr>\n",
       "    <tr>\n",
       "      <th>19</th>\n",
       "      <td>80-110</td>\n",
       "      <td>Stage IV</td>\n",
       "      <td>21.94</td>\n",
       "      <td>404.26</td>\n",
       "    </tr>\n",
       "  </tbody>\n",
       "</table>\n",
       "</div>"
      ],
      "text/plain": [
       "   age_group cancer_stage  survived  treatment_duration\n",
       "0       0-20      Stage I     36.92              498.65\n",
       "1       0-20     Stage II     23.73              491.20\n",
       "2       0-20    Stage III     17.65              451.84\n",
       "3       0-20     Stage IV     26.47              408.07\n",
       "4      20-40      Stage I     21.71              512.76\n",
       "5      20-40     Stage II     21.75              476.89\n",
       "6      20-40    Stage III     21.78              440.80\n",
       "7      20-40     Stage IV     21.62              403.68\n",
       "8      40-60      Stage I     21.89              512.41\n",
       "9      40-60     Stage II     22.05              475.79\n",
       "10     40-60    Stage III     22.09              440.45\n",
       "11     40-60     Stage IV     22.16              403.00\n",
       "12     60-80      Stage I     21.64              513.11\n",
       "13     60-80     Stage II     22.26              475.81\n",
       "14     60-80    Stage III     22.07              439.96\n",
       "15     60-80     Stage IV     22.21              404.68\n",
       "16    80-110      Stage I     22.79              512.78\n",
       "17    80-110     Stage II     22.11              476.19\n",
       "18    80-110    Stage III     21.04              436.08\n",
       "19    80-110     Stage IV     21.94              404.26"
      ]
     },
     "execution_count": 35,
     "metadata": {},
     "output_type": "execute_result"
    }
   ],
   "source": [
    "profile=data.groupby(['age_group','cancer_stage'],observed=True).agg({'survived':'mean','treatment_duration':'mean' }).reset_index()\n",
    "profile['survived']=(profile['survived']*100).round(2)\n",
    "profile['treatment_duration']=profile['treatment_duration'].round(2)\n",
    "profile"
   ]
  },
  {
   "cell_type": "code",
   "execution_count": 36,
   "id": "4047e50b-9b0d-4f59-8cf8-114648788124",
   "metadata": {},
   "outputs": [
    {
     "data": {
      "text/html": [
       "<div>\n",
       "<style scoped>\n",
       "    .dataframe tbody tr th:only-of-type {\n",
       "        vertical-align: middle;\n",
       "    }\n",
       "\n",
       "    .dataframe tbody tr th {\n",
       "        vertical-align: top;\n",
       "    }\n",
       "\n",
       "    .dataframe thead th {\n",
       "        text-align: right;\n",
       "    }\n",
       "</style>\n",
       "<table border=\"1\" class=\"dataframe\">\n",
       "  <thead>\n",
       "    <tr style=\"text-align: right;\">\n",
       "      <th></th>\n",
       "      <th>country</th>\n",
       "      <th>survived</th>\n",
       "      <th>treatment_duration</th>\n",
       "    </tr>\n",
       "  </thead>\n",
       "  <tbody>\n",
       "    <tr>\n",
       "      <th>0</th>\n",
       "      <td>Austria</td>\n",
       "      <td>21.79</td>\n",
       "      <td>458.62</td>\n",
       "    </tr>\n",
       "    <tr>\n",
       "      <th>1</th>\n",
       "      <td>Belgium</td>\n",
       "      <td>21.96</td>\n",
       "      <td>457.98</td>\n",
       "    </tr>\n",
       "    <tr>\n",
       "      <th>2</th>\n",
       "      <td>Bulgaria</td>\n",
       "      <td>22.04</td>\n",
       "      <td>458.92</td>\n",
       "    </tr>\n",
       "    <tr>\n",
       "      <th>3</th>\n",
       "      <td>Croatia</td>\n",
       "      <td>21.99</td>\n",
       "      <td>457.79</td>\n",
       "    </tr>\n",
       "    <tr>\n",
       "      <th>4</th>\n",
       "      <td>Cyprus</td>\n",
       "      <td>22.04</td>\n",
       "      <td>457.46</td>\n",
       "    </tr>\n",
       "    <tr>\n",
       "      <th>5</th>\n",
       "      <td>Czech Republic</td>\n",
       "      <td>22.29</td>\n",
       "      <td>458.90</td>\n",
       "    </tr>\n",
       "    <tr>\n",
       "      <th>6</th>\n",
       "      <td>Denmark</td>\n",
       "      <td>21.94</td>\n",
       "      <td>457.58</td>\n",
       "    </tr>\n",
       "    <tr>\n",
       "      <th>7</th>\n",
       "      <td>Estonia</td>\n",
       "      <td>22.31</td>\n",
       "      <td>458.31</td>\n",
       "    </tr>\n",
       "    <tr>\n",
       "      <th>8</th>\n",
       "      <td>Finland</td>\n",
       "      <td>22.25</td>\n",
       "      <td>458.73</td>\n",
       "    </tr>\n",
       "    <tr>\n",
       "      <th>9</th>\n",
       "      <td>France</td>\n",
       "      <td>21.58</td>\n",
       "      <td>457.47</td>\n",
       "    </tr>\n",
       "    <tr>\n",
       "      <th>10</th>\n",
       "      <td>Germany</td>\n",
       "      <td>22.10</td>\n",
       "      <td>459.10</td>\n",
       "    </tr>\n",
       "    <tr>\n",
       "      <th>11</th>\n",
       "      <td>Greece</td>\n",
       "      <td>21.95</td>\n",
       "      <td>456.38</td>\n",
       "    </tr>\n",
       "    <tr>\n",
       "      <th>12</th>\n",
       "      <td>Hungary</td>\n",
       "      <td>21.99</td>\n",
       "      <td>458.36</td>\n",
       "    </tr>\n",
       "    <tr>\n",
       "      <th>13</th>\n",
       "      <td>Ireland</td>\n",
       "      <td>21.90</td>\n",
       "      <td>456.86</td>\n",
       "    </tr>\n",
       "    <tr>\n",
       "      <th>14</th>\n",
       "      <td>Italy</td>\n",
       "      <td>21.65</td>\n",
       "      <td>458.10</td>\n",
       "    </tr>\n",
       "    <tr>\n",
       "      <th>15</th>\n",
       "      <td>Latvia</td>\n",
       "      <td>22.25</td>\n",
       "      <td>458.07</td>\n",
       "    </tr>\n",
       "    <tr>\n",
       "      <th>16</th>\n",
       "      <td>Lithuania</td>\n",
       "      <td>21.90</td>\n",
       "      <td>458.88</td>\n",
       "    </tr>\n",
       "    <tr>\n",
       "      <th>17</th>\n",
       "      <td>Luxembourg</td>\n",
       "      <td>22.21</td>\n",
       "      <td>459.50</td>\n",
       "    </tr>\n",
       "    <tr>\n",
       "      <th>18</th>\n",
       "      <td>Malta</td>\n",
       "      <td>22.26</td>\n",
       "      <td>458.91</td>\n",
       "    </tr>\n",
       "    <tr>\n",
       "      <th>19</th>\n",
       "      <td>Netherlands</td>\n",
       "      <td>22.26</td>\n",
       "      <td>457.02</td>\n",
       "    </tr>\n",
       "    <tr>\n",
       "      <th>20</th>\n",
       "      <td>Poland</td>\n",
       "      <td>22.10</td>\n",
       "      <td>456.26</td>\n",
       "    </tr>\n",
       "    <tr>\n",
       "      <th>21</th>\n",
       "      <td>Portugal</td>\n",
       "      <td>22.20</td>\n",
       "      <td>457.97</td>\n",
       "    </tr>\n",
       "    <tr>\n",
       "      <th>22</th>\n",
       "      <td>Romania</td>\n",
       "      <td>22.20</td>\n",
       "      <td>458.21</td>\n",
       "    </tr>\n",
       "    <tr>\n",
       "      <th>23</th>\n",
       "      <td>Slovakia</td>\n",
       "      <td>21.74</td>\n",
       "      <td>458.17</td>\n",
       "    </tr>\n",
       "    <tr>\n",
       "      <th>24</th>\n",
       "      <td>Slovenia</td>\n",
       "      <td>22.04</td>\n",
       "      <td>459.23</td>\n",
       "    </tr>\n",
       "    <tr>\n",
       "      <th>25</th>\n",
       "      <td>Spain</td>\n",
       "      <td>22.09</td>\n",
       "      <td>456.94</td>\n",
       "    </tr>\n",
       "    <tr>\n",
       "      <th>26</th>\n",
       "      <td>Sweden</td>\n",
       "      <td>21.61</td>\n",
       "      <td>458.68</td>\n",
       "    </tr>\n",
       "  </tbody>\n",
       "</table>\n",
       "</div>"
      ],
      "text/plain": [
       "           country  survived  treatment_duration\n",
       "0          Austria     21.79              458.62\n",
       "1          Belgium     21.96              457.98\n",
       "2         Bulgaria     22.04              458.92\n",
       "3          Croatia     21.99              457.79\n",
       "4           Cyprus     22.04              457.46\n",
       "5   Czech Republic     22.29              458.90\n",
       "6          Denmark     21.94              457.58\n",
       "7          Estonia     22.31              458.31\n",
       "8          Finland     22.25              458.73\n",
       "9           France     21.58              457.47\n",
       "10         Germany     22.10              459.10\n",
       "11          Greece     21.95              456.38\n",
       "12         Hungary     21.99              458.36\n",
       "13         Ireland     21.90              456.86\n",
       "14           Italy     21.65              458.10\n",
       "15          Latvia     22.25              458.07\n",
       "16       Lithuania     21.90              458.88\n",
       "17      Luxembourg     22.21              459.50\n",
       "18           Malta     22.26              458.91\n",
       "19     Netherlands     22.26              457.02\n",
       "20          Poland     22.10              456.26\n",
       "21        Portugal     22.20              457.97\n",
       "22         Romania     22.20              458.21\n",
       "23        Slovakia     21.74              458.17\n",
       "24        Slovenia     22.04              459.23\n",
       "25           Spain     22.09              456.94\n",
       "26          Sweden     21.61              458.68"
      ]
     },
     "execution_count": 36,
     "metadata": {},
     "output_type": "execute_result"
    }
   ],
   "source": [
    "country_stats=data.groupby(['country'],observed=True).agg({'survived':'mean','treatment_duration':'mean' }).reset_index()\n",
    "country_stats['survived']=(country_stats['survived']*100).round(2)\n",
    "country_stats['treatment_duration']=country_stats['treatment_duration'].round(2)\n",
    "country_stats"
   ]
  },
  {
   "cell_type": "code",
   "execution_count": 37,
   "id": "c0c339cf-33c8-4c57-bb1a-25c362735f10",
   "metadata": {},
   "outputs": [
    {
     "data": {
      "image/png": "[encoded data removed]",
      "text/plain": [
       "<Figure size 800x800 with 1 Axes>"
      ]
     },
     "metadata": {},
     "output_type": "display_data"
    }
   ],
   "source": [
    "plt.figure(figsize=(8,8))\n",
    "sns.scatterplot(x='treatment_duration',y='survived',hue='country',data=country_stats)\n",
    "plt.title('survival rate vs average treatment duration by country')\n",
    "plt.xlabel('average treatment duration')\n",
    "plt.ylabel('survival rate')\n",
    "plt.show()"
   ]
  },
  {
   "cell_type": "code",
   "execution_count": 38,
   "id": "202550ee-acd4-45bc-a889-237b1fa04375",
   "metadata": {},
   "outputs": [
    {
     "data": {
      "image/png": "[encoded data removed]",
      "text/plain": [
       "<Figure size 800x800 with 1 Axes>"
      ]
     },
     "metadata": {},
     "output_type": "display_data"
    }
   ],
   "source": [
    "plt.figure(figsize=(8,8))\n",
    "sns.scatterplot(x='treatment_duration',y='survived',hue='age_group',data=profile)\n",
    "plt.title('survival rate vs average treatment duration by patient profile')\n",
    "plt.xlabel('average treatment duration')\n",
    "plt.ylabel('survival rate')\n",
    "plt.show()"
   ]
  },
  {
   "cell_type": "markdown",
   "id": "4d455132-e0e8-401a-969a-0b5326f941eb",
   "metadata": {},
   "source": [
    "## 4. Lifestyle Factors & Risk Assessment"
   ]
  },
  {
   "cell_type": "markdown",
   "id": "b40ad0f0-305d-4b50-bdba-ed7a2f24a160",
   "metadata": {},
   "source": [
    "(i) How does smoking status correlate with survival rates and cancer stage severity?"
   ]
  },
  {
   "cell_type": "code",
   "execution_count": 39,
   "id": "d515a460-21ba-4e5d-9d46-35199ae7452d",
   "metadata": {},
   "outputs": [
    {
     "data": {
      "text/html": [
       "<div>\n",
       "<style scoped>\n",
       "    .dataframe tbody tr th:only-of-type {\n",
       "        vertical-align: middle;\n",
       "    }\n",
       "\n",
       "    .dataframe tbody tr th {\n",
       "        vertical-align: top;\n",
       "    }\n",
       "\n",
       "    .dataframe thead th {\n",
       "        text-align: right;\n",
       "    }\n",
       "</style>\n",
       "<table border=\"1\" class=\"dataframe\">\n",
       "  <thead>\n",
       "    <tr style=\"text-align: right;\">\n",
       "      <th></th>\n",
       "      <th>smoking_status</th>\n",
       "      <th>survival_rate</th>\n",
       "    </tr>\n",
       "  </thead>\n",
       "  <tbody>\n",
       "    <tr>\n",
       "      <th>0</th>\n",
       "      <td>Current Smoker</td>\n",
       "      <td>22.033998</td>\n",
       "    </tr>\n",
       "    <tr>\n",
       "      <th>1</th>\n",
       "      <td>Former Smoker</td>\n",
       "      <td>21.964074</td>\n",
       "    </tr>\n",
       "    <tr>\n",
       "      <th>2</th>\n",
       "      <td>Never Smoked</td>\n",
       "      <td>22.091034</td>\n",
       "    </tr>\n",
       "    <tr>\n",
       "      <th>3</th>\n",
       "      <td>Passive Smoker</td>\n",
       "      <td>22.002509</td>\n",
       "    </tr>\n",
       "  </tbody>\n",
       "</table>\n",
       "</div>"
      ],
      "text/plain": [
       "   smoking_status  survival_rate\n",
       "0  Current Smoker      22.033998\n",
       "1   Former Smoker      21.964074\n",
       "2    Never Smoked      22.091034\n",
       "3  Passive Smoker      22.002509"
      ]
     },
     "execution_count": 39,
     "metadata": {},
     "output_type": "execute_result"
    }
   ],
   "source": [
    "#4.1.1 code\n",
    "smoking_survival=data.groupby('smoking_status')['survived'].mean()*100\n",
    "smoking_survival=smoking_survival.reset_index(name='survival_rate')\n",
    "smoking_survival"
   ]
  },
  {
   "cell_type": "code",
   "execution_count": 40,
   "id": "41332972-c933-42e5-a076-70b60ba6780f",
   "metadata": {},
   "outputs": [
    {
     "data": {
      "text/html": [
       "<div>\n",
       "<style scoped>\n",
       "    .dataframe tbody tr th:only-of-type {\n",
       "        vertical-align: middle;\n",
       "    }\n",
       "\n",
       "    .dataframe tbody tr th {\n",
       "        vertical-align: top;\n",
       "    }\n",
       "\n",
       "    .dataframe thead th {\n",
       "        text-align: right;\n",
       "    }\n",
       "</style>\n",
       "<table border=\"1\" class=\"dataframe\">\n",
       "  <thead>\n",
       "    <tr style=\"text-align: right;\">\n",
       "      <th>cancer_stage</th>\n",
       "      <th>Stage I</th>\n",
       "      <th>Stage II</th>\n",
       "      <th>Stage III</th>\n",
       "      <th>Stage IV</th>\n",
       "    </tr>\n",
       "    <tr>\n",
       "      <th>smoking_status</th>\n",
       "      <th></th>\n",
       "      <th></th>\n",
       "      <th></th>\n",
       "      <th></th>\n",
       "    </tr>\n",
       "  </thead>\n",
       "  <tbody>\n",
       "    <tr>\n",
       "      <th>Current Smoker</th>\n",
       "      <td>0.250466</td>\n",
       "      <td>0.249795</td>\n",
       "      <td>0.251061</td>\n",
       "      <td>0.248677</td>\n",
       "    </tr>\n",
       "    <tr>\n",
       "      <th>Former Smoker</th>\n",
       "      <td>0.249733</td>\n",
       "      <td>0.250692</td>\n",
       "      <td>0.249526</td>\n",
       "      <td>0.250048</td>\n",
       "    </tr>\n",
       "    <tr>\n",
       "      <th>Never Smoked</th>\n",
       "      <td>0.250347</td>\n",
       "      <td>0.249004</td>\n",
       "      <td>0.249507</td>\n",
       "      <td>0.251141</td>\n",
       "    </tr>\n",
       "    <tr>\n",
       "      <th>Passive Smoker</th>\n",
       "      <td>0.249527</td>\n",
       "      <td>0.249895</td>\n",
       "      <td>0.250329</td>\n",
       "      <td>0.250249</td>\n",
       "    </tr>\n",
       "  </tbody>\n",
       "</table>\n",
       "</div>"
      ],
      "text/plain": [
       "cancer_stage     Stage I  Stage II  Stage III  Stage IV\n",
       "smoking_status                                         \n",
       "Current Smoker  0.250466  0.249795   0.251061  0.248677\n",
       "Former Smoker   0.249733  0.250692   0.249526  0.250048\n",
       "Never Smoked    0.250347  0.249004   0.249507  0.251141\n",
       "Passive Smoker  0.249527  0.249895   0.250329  0.250249"
      ]
     },
     "execution_count": 40,
     "metadata": {},
     "output_type": "execute_result"
    }
   ],
   "source": [
    "#4.1.2 code\n",
    "somking_cancer=pd.crosstab(data[\"smoking_status\"],data[\"cancer_stage\"],normalize='index')\n",
    "somking_cancer"
   ]
  },
  {
   "cell_type": "markdown",
   "id": "a4500195-77e7-46db-9882-3a0ee8939f83",
   "metadata": {},
   "source": [
    "(ii) How do different BMI levels affect survival rates and post-treatment outcomes?"
   ]
  },
  {
   "cell_type": "code",
   "execution_count": 41,
   "id": "fb4dc935-dcf9-44f2-b726-97993f63375d",
   "metadata": {},
   "outputs": [
    {
     "data": {
      "text/html": [
       "<div>\n",
       "<style scoped>\n",
       "    .dataframe tbody tr th:only-of-type {\n",
       "        vertical-align: middle;\n",
       "    }\n",
       "\n",
       "    .dataframe tbody tr th {\n",
       "        vertical-align: top;\n",
       "    }\n",
       "\n",
       "    .dataframe thead th {\n",
       "        text-align: right;\n",
       "    }\n",
       "</style>\n",
       "<table border=\"1\" class=\"dataframe\">\n",
       "  <thead>\n",
       "    <tr style=\"text-align: right;\">\n",
       "      <th></th>\n",
       "      <th>bmi_category</th>\n",
       "      <th>survived</th>\n",
       "    </tr>\n",
       "  </thead>\n",
       "  <tbody>\n",
       "    <tr>\n",
       "      <th>0</th>\n",
       "      <td>Over Weight</td>\n",
       "      <td>0</td>\n",
       "    </tr>\n",
       "    <tr>\n",
       "      <th>1</th>\n",
       "      <td>Obese</td>\n",
       "      <td>1</td>\n",
       "    </tr>\n",
       "    <tr>\n",
       "      <th>2</th>\n",
       "      <td>Obese</td>\n",
       "      <td>0</td>\n",
       "    </tr>\n",
       "    <tr>\n",
       "      <th>3</th>\n",
       "      <td>Obese</td>\n",
       "      <td>0</td>\n",
       "    </tr>\n",
       "    <tr>\n",
       "      <th>4</th>\n",
       "      <td>Normal Weight</td>\n",
       "      <td>0</td>\n",
       "    </tr>\n",
       "    <tr>\n",
       "      <th>...</th>\n",
       "      <td>...</td>\n",
       "      <td>...</td>\n",
       "    </tr>\n",
       "    <tr>\n",
       "      <th>889995</th>\n",
       "      <td>Obese</td>\n",
       "      <td>0</td>\n",
       "    </tr>\n",
       "    <tr>\n",
       "      <th>889996</th>\n",
       "      <td>Normal Weight</td>\n",
       "      <td>0</td>\n",
       "    </tr>\n",
       "    <tr>\n",
       "      <th>889997</th>\n",
       "      <td>Obese</td>\n",
       "      <td>1</td>\n",
       "    </tr>\n",
       "    <tr>\n",
       "      <th>889998</th>\n",
       "      <td>Normal Weight</td>\n",
       "      <td>0</td>\n",
       "    </tr>\n",
       "    <tr>\n",
       "      <th>889999</th>\n",
       "      <td>Obese</td>\n",
       "      <td>0</td>\n",
       "    </tr>\n",
       "  </tbody>\n",
       "</table>\n",
       "<p>890000 rows × 2 columns</p>\n",
       "</div>"
      ],
      "text/plain": [
       "         bmi_category  survived\n",
       "0         Over Weight         0\n",
       "1               Obese         1\n",
       "2               Obese         0\n",
       "3               Obese         0\n",
       "4       Normal Weight         0\n",
       "...               ...       ...\n",
       "889995          Obese         0\n",
       "889996  Normal Weight         0\n",
       "889997          Obese         1\n",
       "889998  Normal Weight         0\n",
       "889999          Obese         0\n",
       "\n",
       "[890000 rows x 2 columns]"
      ]
     },
     "execution_count": 41,
     "metadata": {},
     "output_type": "execute_result"
    }
   ],
   "source": [
    "#4.2 code\n",
    "count=pd.cut(data[\"bmi\"], bins=[0,18.5,24.9,29.9,100],labels=[\"Under Weight\"\n",
    "                                                                     ,\"Normal Weight\",\"Over Weight\", \"Obese\"])\n",
    "count=pd.DataFrame(count)\n",
    "count[\"survived\"]=data[\"survived\"]\n",
    "count.columns=[\"bmi_category\",\"survived\"]\n",
    "count"
   ]
  },
  {
   "cell_type": "code",
   "execution_count": 42,
   "id": "00c093ae-37b7-487b-8ddb-e5e6be3d3061",
   "metadata": {},
   "outputs": [
    {
     "data": {
      "text/html": [
       "<div>\n",
       "<style scoped>\n",
       "    .dataframe tbody tr th:only-of-type {\n",
       "        vertical-align: middle;\n",
       "    }\n",
       "\n",
       "    .dataframe tbody tr th {\n",
       "        vertical-align: top;\n",
       "    }\n",
       "\n",
       "    .dataframe thead th {\n",
       "        text-align: right;\n",
       "    }\n",
       "</style>\n",
       "<table border=\"1\" class=\"dataframe\">\n",
       "  <thead>\n",
       "    <tr style=\"text-align: right;\">\n",
       "      <th></th>\n",
       "      <th>bmi_category</th>\n",
       "      <th>survival_rate</th>\n",
       "    </tr>\n",
       "  </thead>\n",
       "  <tbody>\n",
       "    <tr>\n",
       "      <th>0</th>\n",
       "      <td>Under Weight</td>\n",
       "      <td>21.985218</td>\n",
       "    </tr>\n",
       "    <tr>\n",
       "      <th>1</th>\n",
       "      <td>Normal Weight</td>\n",
       "      <td>22.030430</td>\n",
       "    </tr>\n",
       "    <tr>\n",
       "      <th>2</th>\n",
       "      <td>Over Weight</td>\n",
       "      <td>22.008952</td>\n",
       "    </tr>\n",
       "    <tr>\n",
       "      <th>3</th>\n",
       "      <td>Obese</td>\n",
       "      <td>22.030767</td>\n",
       "    </tr>\n",
       "  </tbody>\n",
       "</table>\n",
       "</div>"
      ],
      "text/plain": [
       "    bmi_category  survival_rate\n",
       "0   Under Weight      21.985218\n",
       "1  Normal Weight      22.030430\n",
       "2    Over Weight      22.008952\n",
       "3          Obese      22.030767"
      ]
     },
     "execution_count": 42,
     "metadata": {},
     "output_type": "execute_result"
    }
   ],
   "source": [
    "bmi_survival=(count.groupby(\"bmi_category\",observed=True)[\"survived\"].mean()*100).reset_index(name=\"survival_rate\")\n",
    "bmi_survival"
   ]
  },
  {
   "cell_type": "code",
   "execution_count": 43,
   "id": "108faa6e-d171-41d9-82d8-828a088d27a6",
   "metadata": {},
   "outputs": [
    {
     "data": {
      "text/plain": [
       "<Axes: xlabel='bmi_category', ylabel='survived'>"
      ]
     },
     "execution_count": 43,
     "metadata": {},
     "output_type": "execute_result"
    },
    {
     "data": {
      "image/png": "[encoded data removed]",
      "text/plain": [
       "<Figure size 640x480 with 1 Axes>"
      ]
     },
     "metadata": {},
     "output_type": "display_data"
    }
   ],
   "source": [
    "x=count[\"bmi_category\"]\n",
    "y=count[\"survived\"]\n",
    "sns.barplot(x=count[\"bmi_category\"], y=count[\"survived\"])"
   ]
  },
  {
   "cell_type": "markdown",
   "id": "d0238d85-f97b-4e8b-af81-5d48596e3ea0",
   "metadata": {},
   "source": [
    "## 5. Comorbidities & Health Conditions"
   ]
  },
  {
   "cell_type": "markdown",
   "id": "cf9b4354-fe1e-459e-95e1-ca492185c14e",
   "metadata": {},
   "source": [
    "(i) How do comorbidities like asthma, hypertension, or liver cirrhosis affect cancer stage and survival rates?"
   ]
  },
  {
   "cell_type": "code",
   "execution_count": 44,
   "id": "4f89bbea-33ea-4fee-8b7e-796dba848fad",
   "metadata": {},
   "outputs": [
    {
     "data": {
      "text/html": [
       "<div>\n",
       "<style scoped>\n",
       "    .dataframe tbody tr th:only-of-type {\n",
       "        vertical-align: middle;\n",
       "    }\n",
       "\n",
       "    .dataframe tbody tr th {\n",
       "        vertical-align: top;\n",
       "    }\n",
       "\n",
       "    .dataframe thead th {\n",
       "        text-align: right;\n",
       "    }\n",
       "</style>\n",
       "<table border=\"1\" class=\"dataframe\">\n",
       "  <thead>\n",
       "    <tr style=\"text-align: right;\">\n",
       "      <th>cancer_stage</th>\n",
       "      <th>Stage I</th>\n",
       "      <th>Stage II</th>\n",
       "      <th>Stage III</th>\n",
       "      <th>Stage IV</th>\n",
       "    </tr>\n",
       "    <tr>\n",
       "      <th>asthma</th>\n",
       "      <th></th>\n",
       "      <th></th>\n",
       "      <th></th>\n",
       "      <th></th>\n",
       "    </tr>\n",
       "  </thead>\n",
       "  <tbody>\n",
       "    <tr>\n",
       "      <th>0</th>\n",
       "      <td>24.977168</td>\n",
       "      <td>24.936696</td>\n",
       "      <td>25.038194</td>\n",
       "      <td>25.047941</td>\n",
       "    </tr>\n",
       "    <tr>\n",
       "      <th>1</th>\n",
       "      <td>25.029600</td>\n",
       "      <td>25.038690</td>\n",
       "      <td>24.979369</td>\n",
       "      <td>24.952340</td>\n",
       "    </tr>\n",
       "  </tbody>\n",
       "</table>\n",
       "</div>"
      ],
      "text/plain": [
       "cancer_stage    Stage I   Stage II  Stage III   Stage IV\n",
       "asthma                                                  \n",
       "0             24.977168  24.936696  25.038194  25.047941\n",
       "1             25.029600  25.038690  24.979369  24.952340"
      ]
     },
     "execution_count": 44,
     "metadata": {},
     "output_type": "execute_result"
    }
   ],
   "source": [
    "#5.1 code\n",
    "survival_by_asthma = pd.crosstab(data['asthma'], data['cancer_stage'], \n",
    "                                 normalize='index') * 100\n",
    "survival_by_asthma"
   ]
  },
  {
   "cell_type": "code",
   "execution_count": 45,
   "id": "26d7944b-7661-40ac-b269-49f9e68aad0c",
   "metadata": {},
   "outputs": [
    {
     "data": {
      "text/html": [
       "<div>\n",
       "<style scoped>\n",
       "    .dataframe tbody tr th:only-of-type {\n",
       "        vertical-align: middle;\n",
       "    }\n",
       "\n",
       "    .dataframe tbody tr th {\n",
       "        vertical-align: top;\n",
       "    }\n",
       "\n",
       "    .dataframe thead th {\n",
       "        text-align: right;\n",
       "    }\n",
       "</style>\n",
       "<table border=\"1\" class=\"dataframe\">\n",
       "  <thead>\n",
       "    <tr style=\"text-align: right;\">\n",
       "      <th>cancer_stage</th>\n",
       "      <th>Stage I</th>\n",
       "      <th>Stage II</th>\n",
       "      <th>Stage III</th>\n",
       "      <th>Stage IV</th>\n",
       "    </tr>\n",
       "    <tr>\n",
       "      <th>hypertension</th>\n",
       "      <th></th>\n",
       "      <th></th>\n",
       "      <th></th>\n",
       "      <th></th>\n",
       "    </tr>\n",
       "  </thead>\n",
       "  <tbody>\n",
       "    <tr>\n",
       "      <th>0</th>\n",
       "      <td>25.085514</td>\n",
       "      <td>24.966401</td>\n",
       "      <td>24.954265</td>\n",
       "      <td>24.993820</td>\n",
       "    </tr>\n",
       "    <tr>\n",
       "      <th>1</th>\n",
       "      <td>24.973896</td>\n",
       "      <td>24.990674</td>\n",
       "      <td>25.029325</td>\n",
       "      <td>25.006105</td>\n",
       "    </tr>\n",
       "  </tbody>\n",
       "</table>\n",
       "</div>"
      ],
      "text/plain": [
       "cancer_stage    Stage I   Stage II  Stage III   Stage IV\n",
       "hypertension                                            \n",
       "0             25.085514  24.966401  24.954265  24.993820\n",
       "1             24.973896  24.990674  25.029325  25.006105"
      ]
     },
     "execution_count": 45,
     "metadata": {},
     "output_type": "execute_result"
    }
   ],
   "source": [
    "survival_by_hytn = pd.crosstab(data['hypertension'], data['cancer_stage'],normalize='index') * 100\n",
    "survival_by_hytn"
   ]
  },
  {
   "cell_type": "code",
   "execution_count": 46,
   "id": "4eb8a8d4-7a04-4288-a0cf-29de6906e555",
   "metadata": {},
   "outputs": [
    {
     "data": {
      "text/html": [
       "<div>\n",
       "<style scoped>\n",
       "    .dataframe tbody tr th:only-of-type {\n",
       "        vertical-align: middle;\n",
       "    }\n",
       "\n",
       "    .dataframe tbody tr th {\n",
       "        vertical-align: top;\n",
       "    }\n",
       "\n",
       "    .dataframe thead th {\n",
       "        text-align: right;\n",
       "    }\n",
       "</style>\n",
       "<table border=\"1\" class=\"dataframe\">\n",
       "  <thead>\n",
       "    <tr style=\"text-align: right;\">\n",
       "      <th>cancer_stage</th>\n",
       "      <th>Stage I</th>\n",
       "      <th>Stage II</th>\n",
       "      <th>Stage III</th>\n",
       "      <th>Stage IV</th>\n",
       "    </tr>\n",
       "    <tr>\n",
       "      <th>cirrhosis</th>\n",
       "      <th></th>\n",
       "      <th></th>\n",
       "      <th></th>\n",
       "      <th></th>\n",
       "    </tr>\n",
       "  </thead>\n",
       "  <tbody>\n",
       "    <tr>\n",
       "      <th>0</th>\n",
       "      <td>25.020504</td>\n",
       "      <td>24.953005</td>\n",
       "      <td>25.015568</td>\n",
       "      <td>25.010923</td>\n",
       "    </tr>\n",
       "    <tr>\n",
       "      <th>1</th>\n",
       "      <td>24.937718</td>\n",
       "      <td>25.092864</td>\n",
       "      <td>24.993411</td>\n",
       "      <td>24.976007</td>\n",
       "    </tr>\n",
       "  </tbody>\n",
       "</table>\n",
       "</div>"
      ],
      "text/plain": [
       "cancer_stage    Stage I   Stage II  Stage III   Stage IV\n",
       "cirrhosis                                               \n",
       "0             25.020504  24.953005  25.015568  25.010923\n",
       "1             24.937718  25.092864  24.993411  24.976007"
      ]
     },
     "execution_count": 46,
     "metadata": {},
     "output_type": "execute_result"
    }
   ],
   "source": [
    "survival_by_lc = pd.crosstab(data['cirrhosis'], data['cancer_stage'],\n",
    "                                 normalize='index') * 100\n",
    "survival_by_lc"
   ]
  },
  {
   "cell_type": "markdown",
   "id": "894cf3f3-407e-4bc4-b089-2896b572c1e6",
   "metadata": {},
   "source": [
    "(ii) What are the survival rates for patients with multiple comorbidities compared to those with single conditions?"
   ]
  },
  {
   "cell_type": "code",
   "execution_count": 47,
   "id": "b3b66198-e1e8-4f15-808d-253e982cec43",
   "metadata": {},
   "outputs": [
    {
     "name": "stdout",
     "output_type": "stream",
     "text": [
      "  comorbidity has_comorbidity cancer_stage  survived\n",
      "0      asthma              No      Stage I         0\n",
      "1      asthma             Yes    Stage III         1\n",
      "2      asthma             Yes    Stage III         0\n",
      "3      asthma             Yes      Stage I         0\n",
      "4      asthma              No      Stage I         0\n"
     ]
    }
   ],
   "source": [
    "comorbidities = ['asthma', 'hypertension', 'cirrhosis']\n",
    "lis = []\n",
    "\n",
    "for i in comorbidities:\n",
    "    temp = data[[i, 'cancer_stage', 'survived']].copy()\n",
    "    temp['comorbidity'] = i\n",
    "    temp['has_comorbidity'] = temp[i].map({1: 'Yes', 0: 'No'})\n",
    "    lis.append(temp[['comorbidity', 'has_comorbidity', 'cancer_stage', 'survived']])\n",
    "\n",
    "comorbidity_df = pd.concat(lis)\n",
    "print(comorbidity_df.head())  # Optional for output\n"
   ]
  },
  {
   "cell_type": "code",
   "execution_count": 49,
   "id": "4f98ab4c-1625-4d0a-bc96-db116a5930e6",
   "metadata": {},
   "outputs": [
    {
     "data": {
      "text/html": [
       "<div>\n",
       "<style scoped>\n",
       "    .dataframe tbody tr th:only-of-type {\n",
       "        vertical-align: middle;\n",
       "    }\n",
       "\n",
       "    .dataframe tbody tr th {\n",
       "        vertical-align: top;\n",
       "    }\n",
       "\n",
       "    .dataframe thead th {\n",
       "        text-align: right;\n",
       "    }\n",
       "</style>\n",
       "<table border=\"1\" class=\"dataframe\">\n",
       "  <thead>\n",
       "    <tr style=\"text-align: right;\">\n",
       "      <th></th>\n",
       "      <th>comorbidity</th>\n",
       "      <th>has_comorbidity</th>\n",
       "      <th>cancer_stage</th>\n",
       "      <th>survived</th>\n",
       "      <th>comorbidity_count</th>\n",
       "      <th>comorbidity_group</th>\n",
       "    </tr>\n",
       "  </thead>\n",
       "  <tbody>\n",
       "    <tr>\n",
       "      <th>0</th>\n",
       "      <td>asthma</td>\n",
       "      <td>No</td>\n",
       "      <td>Stage I</td>\n",
       "      <td>0</td>\n",
       "      <td>1</td>\n",
       "      <td>Single</td>\n",
       "    </tr>\n",
       "    <tr>\n",
       "      <th>1</th>\n",
       "      <td>asthma</td>\n",
       "      <td>Yes</td>\n",
       "      <td>Stage III</td>\n",
       "      <td>1</td>\n",
       "      <td>2</td>\n",
       "      <td>Multiple</td>\n",
       "    </tr>\n",
       "    <tr>\n",
       "      <th>2</th>\n",
       "      <td>asthma</td>\n",
       "      <td>Yes</td>\n",
       "      <td>Stage III</td>\n",
       "      <td>0</td>\n",
       "      <td>2</td>\n",
       "      <td>Multiple</td>\n",
       "    </tr>\n",
       "    <tr>\n",
       "      <th>3</th>\n",
       "      <td>asthma</td>\n",
       "      <td>Yes</td>\n",
       "      <td>Stage I</td>\n",
       "      <td>0</td>\n",
       "      <td>2</td>\n",
       "      <td>Multiple</td>\n",
       "    </tr>\n",
       "    <tr>\n",
       "      <th>4</th>\n",
       "      <td>asthma</td>\n",
       "      <td>No</td>\n",
       "      <td>Stage I</td>\n",
       "      <td>0</td>\n",
       "      <td>0</td>\n",
       "      <td>Multiple</td>\n",
       "    </tr>\n",
       "    <tr>\n",
       "      <th>...</th>\n",
       "      <td>...</td>\n",
       "      <td>...</td>\n",
       "      <td>...</td>\n",
       "      <td>...</td>\n",
       "      <td>...</td>\n",
       "      <td>...</td>\n",
       "    </tr>\n",
       "    <tr>\n",
       "      <th>889995</th>\n",
       "      <td>cirrhosis</td>\n",
       "      <td>Yes</td>\n",
       "      <td>Stage IV</td>\n",
       "      <td>0</td>\n",
       "      <td>3</td>\n",
       "      <td>Multiple</td>\n",
       "    </tr>\n",
       "    <tr>\n",
       "      <th>889996</th>\n",
       "      <td>cirrhosis</td>\n",
       "      <td>No</td>\n",
       "      <td>Stage II</td>\n",
       "      <td>0</td>\n",
       "      <td>0</td>\n",
       "      <td>Multiple</td>\n",
       "    </tr>\n",
       "    <tr>\n",
       "      <th>889997</th>\n",
       "      <td>cirrhosis</td>\n",
       "      <td>No</td>\n",
       "      <td>Stage III</td>\n",
       "      <td>1</td>\n",
       "      <td>1</td>\n",
       "      <td>Single</td>\n",
       "    </tr>\n",
       "    <tr>\n",
       "      <th>889998</th>\n",
       "      <td>cirrhosis</td>\n",
       "      <td>No</td>\n",
       "      <td>Stage IV</td>\n",
       "      <td>0</td>\n",
       "      <td>2</td>\n",
       "      <td>Multiple</td>\n",
       "    </tr>\n",
       "    <tr>\n",
       "      <th>889999</th>\n",
       "      <td>cirrhosis</td>\n",
       "      <td>No</td>\n",
       "      <td>Stage II</td>\n",
       "      <td>0</td>\n",
       "      <td>0</td>\n",
       "      <td>Multiple</td>\n",
       "    </tr>\n",
       "  </tbody>\n",
       "</table>\n",
       "<p>2670000 rows × 6 columns</p>\n",
       "</div>"
      ],
      "text/plain": [
       "       comorbidity has_comorbidity cancer_stage  survived  comorbidity_count  \\\n",
       "0           asthma              No      Stage I         0                  1   \n",
       "1           asthma             Yes    Stage III         1                  2   \n",
       "2           asthma             Yes    Stage III         0                  2   \n",
       "3           asthma             Yes      Stage I         0                  2   \n",
       "4           asthma              No      Stage I         0                  0   \n",
       "...            ...             ...          ...       ...                ...   \n",
       "889995   cirrhosis             Yes     Stage IV         0                  3   \n",
       "889996   cirrhosis              No     Stage II         0                  0   \n",
       "889997   cirrhosis              No    Stage III         1                  1   \n",
       "889998   cirrhosis              No     Stage IV         0                  2   \n",
       "889999   cirrhosis              No     Stage II         0                  0   \n",
       "\n",
       "       comorbidity_group  \n",
       "0                 Single  \n",
       "1               Multiple  \n",
       "2               Multiple  \n",
       "3               Multiple  \n",
       "4               Multiple  \n",
       "...                  ...  \n",
       "889995          Multiple  \n",
       "889996          Multiple  \n",
       "889997            Single  \n",
       "889998          Multiple  \n",
       "889999          Multiple  \n",
       "\n",
       "[2670000 rows x 6 columns]"
      ]
     },
     "execution_count": 49,
     "metadata": {},
     "output_type": "execute_result"
    }
   ],
   "source": [
    "comorbidities = ['asthma', 'hypertension', 'cirrhosis']\n",
    "lis= []\n",
    "for i in comorbidities:\n",
    "    temp = data[[i, 'cancer_stage', 'survived']].copy()\n",
    "    temp['comorbidity'] = i\n",
    "    temp['has_comorbidity'] = temp[i].map({1: 'Yes', 0: 'No'})\n",
    "    lis.append(temp[['comorbidity', 'has_comorbidity', 'cancer_stage', 'survived']])\n",
    "comorbidity_df = pd.concat(lis)\n",
    "comorbidity_df.loc[:, 'comorbidity_count'] = data[comorbidities].sum(axis=1)\n",
    "comorbidity_df['comorbidity_group'] = comorbidity_df['comorbidity_count'].apply(lambda x: 'Single' if x == 1 else 'Multiple')\n",
    "comorbidity_df"
   ]
  },
  {
   "cell_type": "code",
   "execution_count": 51,
   "id": "45cb0652-a532-462c-bdeb-1a9953554a82",
   "metadata": {},
   "outputs": [],
   "source": [
    "survival_rates = comorbidity_df.groupby(['comorbidity_group'])['survived'].mean() * 100\n",
    "survival_rates = survival_rates.round(1).reset_index(name='survival_rate')"
   ]
  },
  {
   "cell_type": "code",
   "execution_count": 52,
   "id": "940036b8-5252-4209-ba49-120d79ed2f47",
   "metadata": {},
   "outputs": [
    {
     "data": {
      "image/png": "[encoded data removed]",
      "text/plain": [
       "<Figure size 400x200 with 1 Axes>"
      ]
     },
     "metadata": {},
     "output_type": "display_data"
    }
   ],
   "source": [
    "plt.figure(figsize=(4, 2))\n",
    "sns.barplot(x='comorbidity_group', y='survival_rate', data=survival_rates, color='lightgreen')\n",
    "plt.title('Survival Rates: Single vs Multiple Comorbidities')\n",
    "plt.xlabel('Comorbidity Group')\n",
    "plt.ylabel('Survival Rate (%)')\n",
    "plt.ylim(0, 100)\n",
    "plt.show()"
   ]
  },
  {
   "cell_type": "markdown",
   "id": "058c1667-246b-41d7-a277-62f0d3d05273",
   "metadata": {},
   "source": [
    "## 6. Family History & Genetic Factors"
   ]
  },
  {
   "cell_type": "markdown",
   "id": "97e928ef-d437-42c7-8ef4-9aac60849904",
   "metadata": {},
   "source": [
    "(i) Does family history of cancer lead to diagnosis at earlier ages, and what are their survival rates?"
   ]
  },
  {
   "cell_type": "code",
   "execution_count": 53,
   "id": "b281064e-a58d-4282-a2ac-3a9340f948e7",
   "metadata": {},
   "outputs": [
    {
     "data": {
      "text/html": [
       "<div>\n",
       "<style scoped>\n",
       "    .dataframe tbody tr th:only-of-type {\n",
       "        vertical-align: middle;\n",
       "    }\n",
       "\n",
       "    .dataframe tbody tr th {\n",
       "        vertical-align: top;\n",
       "    }\n",
       "\n",
       "    .dataframe thead th {\n",
       "        text-align: right;\n",
       "    }\n",
       "</style>\n",
       "<table border=\"1\" class=\"dataframe\">\n",
       "  <thead>\n",
       "    <tr style=\"text-align: right;\">\n",
       "      <th></th>\n",
       "      <th>family_history</th>\n",
       "      <th>age</th>\n",
       "    </tr>\n",
       "  </thead>\n",
       "  <tbody>\n",
       "    <tr>\n",
       "      <th>0</th>\n",
       "      <td>No</td>\n",
       "      <td>55.018</td>\n",
       "    </tr>\n",
       "    <tr>\n",
       "      <th>1</th>\n",
       "      <td>Yes</td>\n",
       "      <td>54.996</td>\n",
       "    </tr>\n",
       "  </tbody>\n",
       "</table>\n",
       "</div>"
      ],
      "text/plain": [
       "  family_history     age\n",
       "0             No  55.018\n",
       "1            Yes  54.996"
      ]
     },
     "execution_count": 53,
     "metadata": {},
     "output_type": "execute_result"
    }
   ],
   "source": [
    "#6.1 code\n",
    "early=data.groupby('family_history')['age'].mean().round(3)\n",
    "early=early.reset_index(name='age')\n",
    "early"
   ]
  },
  {
   "cell_type": "code",
   "execution_count": 54,
   "id": "7c29ce74-3ae6-4145-a7a8-2c0cf7d3895c",
   "metadata": {},
   "outputs": [
    {
     "data": {
      "text/plain": [
       "<Axes: xlabel='family_history', ylabel='age'>"
      ]
     },
     "execution_count": 54,
     "metadata": {},
     "output_type": "execute_result"
    },
    {
     "data": {
      "image/png": "[encoded data removed]",
      "text/plain": [
       "<Figure size 640x480 with 1 Axes>"
      ]
     },
     "metadata": {},
     "output_type": "display_data"
    }
   ],
   "source": [
    "sns.scatterplot(x='family_history',y='age',data=data)"
   ]
  },
  {
   "cell_type": "markdown",
   "id": "28f3be69-113c-4f54-a815-88954fc44bcb",
   "metadata": {},
   "source": [
    "(ii) Do patients with family history tend to be diagnosed at earlier stages compared to those without?"
   ]
  },
  {
   "cell_type": "code",
   "execution_count": 55,
   "id": "c64d7570-91b3-4a64-bc23-5a05862bbdae",
   "metadata": {},
   "outputs": [
    {
     "data": {
      "text/html": [
       "<div>\n",
       "<style scoped>\n",
       "    .dataframe tbody tr th:only-of-type {\n",
       "        vertical-align: middle;\n",
       "    }\n",
       "\n",
       "    .dataframe tbody tr th {\n",
       "        vertical-align: top;\n",
       "    }\n",
       "\n",
       "    .dataframe thead th {\n",
       "        text-align: right;\n",
       "    }\n",
       "</style>\n",
       "<table border=\"1\" class=\"dataframe\">\n",
       "  <thead>\n",
       "    <tr style=\"text-align: right;\">\n",
       "      <th>cancer_stage</th>\n",
       "      <th>Stage I</th>\n",
       "      <th>Stage II</th>\n",
       "      <th>Stage III</th>\n",
       "      <th>Stage IV</th>\n",
       "    </tr>\n",
       "    <tr>\n",
       "      <th>family_history</th>\n",
       "      <th></th>\n",
       "      <th></th>\n",
       "      <th></th>\n",
       "      <th></th>\n",
       "    </tr>\n",
       "  </thead>\n",
       "  <tbody>\n",
       "    <tr>\n",
       "      <th>No</th>\n",
       "      <td>25.073</td>\n",
       "      <td>24.911</td>\n",
       "      <td>24.982</td>\n",
       "      <td>25.034</td>\n",
       "    </tr>\n",
       "    <tr>\n",
       "      <th>Yes</th>\n",
       "      <td>24.930</td>\n",
       "      <td>25.058</td>\n",
       "      <td>25.039</td>\n",
       "      <td>24.972</td>\n",
       "    </tr>\n",
       "  </tbody>\n",
       "</table>\n",
       "</div>"
      ],
      "text/plain": [
       "cancer_stage    Stage I  Stage II  Stage III  Stage IV\n",
       "family_history                                        \n",
       "No               25.073    24.911     24.982    25.034\n",
       "Yes              24.930    25.058     25.039    24.972"
      ]
     },
     "execution_count": 55,
     "metadata": {},
     "output_type": "execute_result"
    }
   ],
   "source": [
    "#6.2 code\n",
    "early_=(pd.crosstab(data['family_history'],data['cancer_stage'],normalize='index')*100).round(3)\n",
    "early_"
   ]
  },
  {
   "cell_type": "code",
   "execution_count": 56,
   "id": "b9f105e6-cf66-47b8-8aeb-e5df69c1989a",
   "metadata": {},
   "outputs": [
    {
     "data": {
      "text/plain": [
       "<Axes: xlabel='family_history', ylabel='cancer_stage'>"
      ]
     },
     "execution_count": 56,
     "metadata": {},
     "output_type": "execute_result"
    },
    {
     "data": {
      "image/png": "[encoded data removed]",
      "text/plain": [
       "<Figure size 640x480 with 1 Axes>"
      ]
     },
     "metadata": {},
     "output_type": "display_data"
    }
   ],
   "source": [
    "sns.barplot(x='family_history',y='cancer_stage',data=data,hue='cancer_stage')"
   ]
  },
  {
   "cell_type": "markdown",
   "id": "2912fa05-92e1-4e79-aa4b-948c3b792fd6",
   "metadata": {},
   "source": [
    "## 7. Multiple Cancer Cases"
   ]
  },
  {
   "cell_type": "markdown",
   "id": "3d3f33cc-c0e0-455d-b264-e0d5bede97f0",
   "metadata": {},
   "source": [
    "(i) How does the presence of additional cancers impact treatment effectiveness and survival probability?"
   ]
  },
  {
   "cell_type": "code",
   "execution_count": 58,
   "id": "144dcb2b-0850-4432-a72e-0263665bec4a",
   "metadata": {},
   "outputs": [
    {
     "data": {
      "text/html": [
       "<div>\n",
       "<style scoped>\n",
       "    .dataframe tbody tr th:only-of-type {\n",
       "        vertical-align: middle;\n",
       "    }\n",
       "\n",
       "    .dataframe tbody tr th {\n",
       "        vertical-align: top;\n",
       "    }\n",
       "\n",
       "    .dataframe thead th {\n",
       "        text-align: right;\n",
       "    }\n",
       "</style>\n",
       "<table border=\"1\" class=\"dataframe\">\n",
       "  <thead>\n",
       "    <tr style=\"text-align: right;\">\n",
       "      <th></th>\n",
       "      <th>cancer_group</th>\n",
       "      <th>survived</th>\n",
       "    </tr>\n",
       "  </thead>\n",
       "  <tbody>\n",
       "    <tr>\n",
       "      <th>0</th>\n",
       "      <td>Single</td>\n",
       "      <td>0</td>\n",
       "    </tr>\n",
       "    <tr>\n",
       "      <th>1</th>\n",
       "      <td>Single</td>\n",
       "      <td>1</td>\n",
       "    </tr>\n",
       "    <tr>\n",
       "      <th>2</th>\n",
       "      <td>Single</td>\n",
       "      <td>0</td>\n",
       "    </tr>\n",
       "    <tr>\n",
       "      <th>3</th>\n",
       "      <td>Single</td>\n",
       "      <td>0</td>\n",
       "    </tr>\n",
       "    <tr>\n",
       "      <th>4</th>\n",
       "      <td>Single</td>\n",
       "      <td>0</td>\n",
       "    </tr>\n",
       "    <tr>\n",
       "      <th>...</th>\n",
       "      <td>...</td>\n",
       "      <td>...</td>\n",
       "    </tr>\n",
       "    <tr>\n",
       "      <th>889995</th>\n",
       "      <td>Single</td>\n",
       "      <td>0</td>\n",
       "    </tr>\n",
       "    <tr>\n",
       "      <th>889996</th>\n",
       "      <td>Single</td>\n",
       "      <td>0</td>\n",
       "    </tr>\n",
       "    <tr>\n",
       "      <th>889997</th>\n",
       "      <td>Single</td>\n",
       "      <td>1</td>\n",
       "    </tr>\n",
       "    <tr>\n",
       "      <th>889998</th>\n",
       "      <td>Single</td>\n",
       "      <td>0</td>\n",
       "    </tr>\n",
       "    <tr>\n",
       "      <th>889999</th>\n",
       "      <td>Single</td>\n",
       "      <td>0</td>\n",
       "    </tr>\n",
       "  </tbody>\n",
       "</table>\n",
       "<p>890000 rows × 2 columns</p>\n",
       "</div>"
      ],
      "text/plain": [
       "       cancer_group  survived\n",
       "0            Single         0\n",
       "1            Single         1\n",
       "2            Single         0\n",
       "3            Single         0\n",
       "4            Single         0\n",
       "...             ...       ...\n",
       "889995       Single         0\n",
       "889996       Single         0\n",
       "889997       Single         1\n",
       "889998       Single         0\n",
       "889999       Single         0\n",
       "\n",
       "[890000 rows x 2 columns]"
      ]
     },
     "execution_count": 58,
     "metadata": {},
     "output_type": "execute_result"
    }
   ],
   "source": [
    "#7.1 code\n",
    "cancer_group = data['other_cancer'].apply(lambda x: 'Single' if x == 0 else 'Multiple')\n",
    "df=pd.DataFrame({ 'cancer_group':cancer_group})\n",
    "df['survived']=data['survived']\n",
    "df"
   ]
  },
  {
   "cell_type": "code",
   "execution_count": 59,
   "id": "f37660ca-57a2-41c0-893d-70636cb4bc6d",
   "metadata": {},
   "outputs": [
    {
     "data": {
      "text/plain": [
       "cancer_group\n",
       "Multiple    21.76\n",
       "Single      22.05\n",
       "Name: survived, dtype: float64"
      ]
     },
     "execution_count": 59,
     "metadata": {},
     "output_type": "execute_result"
    }
   ],
   "source": [
    "impact=(df.groupby('cancer_group')['survived'].mean()*100).round(2)\n",
    "impact"
   ]
  },
  {
   "cell_type": "markdown",
   "id": "59ec659d-7ad2-456a-a5e9-e4ab02d456b2",
   "metadata": {},
   "source": [
    "(ii) Does having multiple cancers significantly decrease overall survival rates?"
   ]
  },
  {
   "cell_type": "code",
   "execution_count": 60,
   "id": "632c9478-8152-41c9-b480-f0716e2dddf5",
   "metadata": {},
   "outputs": [
    {
     "data": {
      "text/html": [
       "<div>\n",
       "<style scoped>\n",
       "    .dataframe tbody tr th:only-of-type {\n",
       "        vertical-align: middle;\n",
       "    }\n",
       "\n",
       "    .dataframe tbody tr th {\n",
       "        vertical-align: top;\n",
       "    }\n",
       "\n",
       "    .dataframe thead th {\n",
       "        text-align: right;\n",
       "    }\n",
       "</style>\n",
       "<table border=\"1\" class=\"dataframe\">\n",
       "  <thead>\n",
       "    <tr style=\"text-align: right;\">\n",
       "      <th></th>\n",
       "      <th>other_cancer</th>\n",
       "      <th>survival_rate</th>\n",
       "    </tr>\n",
       "  </thead>\n",
       "  <tbody>\n",
       "    <tr>\n",
       "      <th>0</th>\n",
       "      <td>0</td>\n",
       "      <td>0.220483</td>\n",
       "    </tr>\n",
       "    <tr>\n",
       "      <th>1</th>\n",
       "      <td>1</td>\n",
       "      <td>0.217601</td>\n",
       "    </tr>\n",
       "  </tbody>\n",
       "</table>\n",
       "</div>"
      ],
      "text/plain": [
       "   other_cancer  survival_rate\n",
       "0             0       0.220483\n",
       "1             1       0.217601"
      ]
     },
     "execution_count": 60,
     "metadata": {},
     "output_type": "execute_result"
    }
   ],
   "source": [
    "#7.2 code\n",
    "overall_survival=data.groupby('other_cancer')['survived'].mean()\n",
    "overall_survival.reset_index(name='survival_rate')"
   ]
  },
  {
   "cell_type": "code",
   "execution_count": 61,
   "id": "0a6e2503-157d-4e90-8842-3666904fcb44",
   "metadata": {},
   "outputs": [
    {
     "data": {
      "text/plain": [
       "<Axes: xlabel='other_cancer', ylabel='survived'>"
      ]
     },
     "execution_count": 61,
     "metadata": {},
     "output_type": "execute_result"
    },
    {
     "data": {
      "image/png": "[encoded data removed]",
      "text/plain": [
       "<Figure size 640x480 with 1 Axes>"
      ]
     },
     "metadata": {},
     "output_type": "display_data"
    }
   ],
   "source": [
    "sns.barplot(x='other_cancer',y='survived',data=data,hue='other_cancer')"
   ]
  },
  {
   "cell_type": "markdown",
   "id": "004b1e96-293e-43e6-abe3-17d764587959",
   "metadata": {},
   "source": [
    "## 8. Time-Based Analysis & Trends"
   ]
  },
  {
   "cell_type": "markdown",
   "id": "0a18bbe2-b3d9-41d6-9d18-2c5d0ac0aee3",
   "metadata": {},
   "source": [
    "(i) How many patients have both diagnosis and end treatment dates, and what is their recovery time span?"
   ]
  },
  {
   "cell_type": "code",
   "execution_count": 62,
   "id": "0bd2642b-042b-447d-bedc-6795e5f781e3",
   "metadata": {},
   "outputs": [
    {
     "name": "stdout",
     "output_type": "stream",
     "text": [
      "Missing Daignosis dates:  0\n",
      "missing End Treatment dates: 0\n",
      "All patients have both diagnosis and end treatment dates\n",
      "Recover Time Span: \n",
      "\n",
      "count    890000.000000\n",
      "mean        458.087170\n",
      "std         139.326048\n",
      "min         183.000000\n",
      "25%         367.000000\n",
      "50%         458.000000\n",
      "75%         550.000000\n",
      "max         730.000000\n",
      "Name: treatment_duration, dtype: float64\n"
     ]
    }
   ],
   "source": [
    "#8.1 code\n",
    "missing_diagnosis=data['diagnosis_date'].isnull().sum()\n",
    "print(\"Missing Daignosis dates: \",missing_diagnosis)\n",
    "missing_end_treatment=data['end_treatment_date'].isnull().sum()\n",
    "print(\"missing End Treatment dates:\",missing_end_treatment)\n",
    "if(missing_diagnosis==0 and missing_end_treatment==0):\n",
    "    print(\"All patients have both diagnosis and end treatment dates\")\n",
    "print(\"Recover Time Span: \\n\")\n",
    "print(data['treatment_duration'].describe())"
   ]
  },
  {
   "cell_type": "code",
   "execution_count": 63,
   "id": "7828e7a2-b070-4e85-86fc-90b6a7c6623b",
   "metadata": {},
   "outputs": [
    {
     "data": {
      "image/png": "[encoded data removed]",
      "text/plain": [
       "<Figure size 640x480 with 1 Axes>"
      ]
     },
     "metadata": {},
     "output_type": "display_data"
    }
   ],
   "source": [
    "sns.boxplot(x='treatment_duration',y='age_group',data=data)\n",
    "plt.show()"
   ]
  },
  {
   "cell_type": "markdown",
   "id": "f5fa1526-823f-4711-83e1-3b5f11710ce5",
   "metadata": {},
   "source": [
    "(ii) How does the time from diagnosis to treatment completion affect survival outcomes?"
   ]
  },
  {
   "cell_type": "code",
   "execution_count": 64,
   "id": "6163b78e-76ad-4803-9583-ca67880e60c6",
   "metadata": {},
   "outputs": [
    {
     "data": {
      "image/png": "[encoded data removed]",
      "text/plain": [
       "<Figure size 640x480 with 1 Axes>"
      ]
     },
     "metadata": {},
     "output_type": "display_data"
    }
   ],
   "source": [
    "#8.2 codoe\n",
    "sns.barplot(y='survived', x='treatment_duration', data=data)\n",
    "plt.title('Treatment Duration vs Survival Outcome')\n",
    "plt.xlabel('Survival Outcome')\n",
    "plt.ylabel('Treatment Duration (days)')\n",
    "plt.show()\n"
   ]
  },
  {
   "cell_type": "code",
   "execution_count": 65,
   "id": "c6804597-cdbb-4876-9805-2085e6f6c0f2",
   "metadata": {},
   "outputs": [
    {
     "data": {
      "text/html": [
       "<div>\n",
       "<style scoped>\n",
       "    .dataframe tbody tr th:only-of-type {\n",
       "        vertical-align: middle;\n",
       "    }\n",
       "\n",
       "    .dataframe tbody tr th {\n",
       "        vertical-align: top;\n",
       "    }\n",
       "\n",
       "    .dataframe thead th {\n",
       "        text-align: right;\n",
       "    }\n",
       "</style>\n",
       "<table border=\"1\" class=\"dataframe\">\n",
       "  <thead>\n",
       "    <tr style=\"text-align: right;\">\n",
       "      <th>cancer_stage</th>\n",
       "      <th>Stage I</th>\n",
       "      <th>Stage II</th>\n",
       "      <th>Stage III</th>\n",
       "      <th>Stage IV</th>\n",
       "      <th>All</th>\n",
       "    </tr>\n",
       "    <tr>\n",
       "      <th>cholesterol_level</th>\n",
       "      <th></th>\n",
       "      <th></th>\n",
       "      <th></th>\n",
       "      <th></th>\n",
       "      <th></th>\n",
       "    </tr>\n",
       "  </thead>\n",
       "  <tbody>\n",
       "    <tr>\n",
       "      <th>150</th>\n",
       "      <td>589</td>\n",
       "      <td>583</td>\n",
       "      <td>630</td>\n",
       "      <td>583</td>\n",
       "      <td>2385</td>\n",
       "    </tr>\n",
       "    <tr>\n",
       "      <th>151</th>\n",
       "      <td>1133</td>\n",
       "      <td>1156</td>\n",
       "      <td>1196</td>\n",
       "      <td>1198</td>\n",
       "      <td>4683</td>\n",
       "    </tr>\n",
       "    <tr>\n",
       "      <th>152</th>\n",
       "      <td>1181</td>\n",
       "      <td>1193</td>\n",
       "      <td>1222</td>\n",
       "      <td>1142</td>\n",
       "      <td>4738</td>\n",
       "    </tr>\n",
       "    <tr>\n",
       "      <th>153</th>\n",
       "      <td>1188</td>\n",
       "      <td>1219</td>\n",
       "      <td>1165</td>\n",
       "      <td>1177</td>\n",
       "      <td>4749</td>\n",
       "    </tr>\n",
       "    <tr>\n",
       "      <th>154</th>\n",
       "      <td>1224</td>\n",
       "      <td>1226</td>\n",
       "      <td>1270</td>\n",
       "      <td>1230</td>\n",
       "      <td>4950</td>\n",
       "    </tr>\n",
       "    <tr>\n",
       "      <th>...</th>\n",
       "      <td>...</td>\n",
       "      <td>...</td>\n",
       "      <td>...</td>\n",
       "      <td>...</td>\n",
       "      <td>...</td>\n",
       "    </tr>\n",
       "    <tr>\n",
       "      <th>297</th>\n",
       "      <td>1917</td>\n",
       "      <td>1872</td>\n",
       "      <td>1898</td>\n",
       "      <td>1883</td>\n",
       "      <td>7570</td>\n",
       "    </tr>\n",
       "    <tr>\n",
       "      <th>298</th>\n",
       "      <td>1953</td>\n",
       "      <td>1921</td>\n",
       "      <td>1892</td>\n",
       "      <td>1879</td>\n",
       "      <td>7645</td>\n",
       "    </tr>\n",
       "    <tr>\n",
       "      <th>299</th>\n",
       "      <td>1872</td>\n",
       "      <td>1955</td>\n",
       "      <td>1944</td>\n",
       "      <td>1936</td>\n",
       "      <td>7707</td>\n",
       "    </tr>\n",
       "    <tr>\n",
       "      <th>300</th>\n",
       "      <td>955</td>\n",
       "      <td>925</td>\n",
       "      <td>991</td>\n",
       "      <td>905</td>\n",
       "      <td>3776</td>\n",
       "    </tr>\n",
       "    <tr>\n",
       "      <th>All</th>\n",
       "      <td>222516</td>\n",
       "      <td>222363</td>\n",
       "      <td>222594</td>\n",
       "      <td>222527</td>\n",
       "      <td>890000</td>\n",
       "    </tr>\n",
       "  </tbody>\n",
       "</table>\n",
       "<p>152 rows × 5 columns</p>\n",
       "</div>"
      ],
      "text/plain": [
       "cancer_stage       Stage I  Stage II  Stage III  Stage IV     All\n",
       "cholesterol_level                                                \n",
       "150                    589       583        630       583    2385\n",
       "151                   1133      1156       1196      1198    4683\n",
       "152                   1181      1193       1222      1142    4738\n",
       "153                   1188      1219       1165      1177    4749\n",
       "154                   1224      1226       1270      1230    4950\n",
       "...                    ...       ...        ...       ...     ...\n",
       "297                   1917      1872       1898      1883    7570\n",
       "298                   1953      1921       1892      1879    7645\n",
       "299                   1872      1955       1944      1936    7707\n",
       "300                    955       925        991       905    3776\n",
       "All                 222516    222363     222594    222527  890000\n",
       "\n",
       "[152 rows x 5 columns]"
      ]
     },
     "execution_count": 65,
     "metadata": {},
     "output_type": "execute_result"
    }
   ],
   "source": [
    "survival_by_c = pd.crosstab(data['cholesterol_level'], data['cancer_stage'],margins=True)\n",
    "survival_by_c"
   ]
  }
 ],
 "metadata": {
  "kernelspec": {
   "display_name": "Python 3 (ipykernel)",
   "language": "python",
   "name": "python3"
  },
  "language_info": {
   "codemirror_mode": {
    "name": "ipython",
    "version": 3
   },
   "file_extension": ".py",
   "mimetype": "text/x-python",
   "name": "python",
   "nbconvert_exporter": "python",
   "pygments_lexer": "ipython3",
   "version": "3.12.7"
  }
 },
 "nbformat": 4,
 "nbformat_minor": 5
}
